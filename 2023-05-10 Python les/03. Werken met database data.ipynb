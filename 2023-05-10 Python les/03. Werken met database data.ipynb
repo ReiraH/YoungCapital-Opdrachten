{
 "cells": [
  {
   "cell_type": "markdown",
   "id": "9e73ba5b",
   "metadata": {},
   "source": [
    "# Imports"
   ]
  },
  {
   "cell_type": "code",
   "execution_count": 1,
   "id": "0ef34483",
   "metadata": {},
   "outputs": [],
   "source": [
    "from mysql import connector"
   ]
  },
  {
   "cell_type": "markdown",
   "id": "3a7be9b2",
   "metadata": {},
   "source": [
    "## Function keyword parameters"
   ]
  },
  {
   "cell_type": "code",
   "execution_count": 5,
   "id": "f7207b49",
   "metadata": {},
   "outputs": [],
   "source": [
    "def func(a, b, c, d, e):\n",
    "    print(a + b + c + d + e)"
   ]
  },
  {
   "cell_type": "code",
   "execution_count": 6,
   "id": "cc944bb5",
   "metadata": {},
   "outputs": [
    {
     "ename": "TypeError",
     "evalue": "func() missing 4 required positional arguments: 'b', 'c', 'd', and 'e'",
     "output_type": "error",
     "traceback": [
      "\u001b[1;31m---------------------------------------------------------------------------\u001b[0m",
      "\u001b[1;31mTypeError\u001b[0m                                 Traceback (most recent call last)",
      "\u001b[1;32m~\\AppData\\Local\\Temp/ipykernel_25900/2069180713.py\u001b[0m in \u001b[0;36m<module>\u001b[1;34m\u001b[0m\n\u001b[1;32m----> 1\u001b[1;33m \u001b[0mfunc\u001b[0m\u001b[1;33m(\u001b[0m\u001b[1;36m3\u001b[0m\u001b[1;33m)\u001b[0m\u001b[1;33m\u001b[0m\u001b[1;33m\u001b[0m\u001b[0m\n\u001b[0m",
      "\u001b[1;31mTypeError\u001b[0m: func() missing 4 required positional arguments: 'b', 'c', 'd', and 'e'"
     ]
    }
   ],
   "source": [
    "# func(3)\n",
    "\n",
    "# TypeError: func() missing 4 required positional arguments: 'b', 'c', 'd', and 'e'"
   ]
  },
  {
   "cell_type": "code",
   "execution_count": 7,
   "id": "afbcebb4",
   "metadata": {},
   "outputs": [
    {
     "name": "stdout",
     "output_type": "stream",
     "text": [
      "18\n"
     ]
    }
   ],
   "source": [
    "func(1, 6, 1, 9, 1)"
   ]
  },
  {
   "cell_type": "code",
   "execution_count": 8,
   "id": "89d18e48",
   "metadata": {},
   "outputs": [],
   "source": [
    "def func(a=0, b=0, c=0, d=0, e=0):\n",
    "    print(a + b + c + d + e)"
   ]
  },
  {
   "cell_type": "code",
   "execution_count": 9,
   "id": "2b60dc30",
   "metadata": {},
   "outputs": [
    {
     "name": "stdout",
     "output_type": "stream",
     "text": [
      "0\n"
     ]
    }
   ],
   "source": [
    "func()"
   ]
  },
  {
   "cell_type": "code",
   "execution_count": 10,
   "id": "360b6a0a",
   "metadata": {},
   "outputs": [
    {
     "name": "stdout",
     "output_type": "stream",
     "text": [
      "3\n"
     ]
    }
   ],
   "source": [
    "func(3)"
   ]
  },
  {
   "cell_type": "code",
   "execution_count": 11,
   "id": "ef1d9610",
   "metadata": {},
   "outputs": [
    {
     "name": "stdout",
     "output_type": "stream",
     "text": [
      "15\n"
     ]
    }
   ],
   "source": [
    "func(c=5, d=10)"
   ]
  },
  {
   "cell_type": "code",
   "execution_count": 12,
   "id": "3f69f3a7",
   "metadata": {},
   "outputs": [
    {
     "name": "stdout",
     "output_type": "stream",
     "text": [
      "15\n"
     ]
    }
   ],
   "source": [
    "func(d=5, e=10)"
   ]
  },
  {
   "cell_type": "markdown",
   "id": "b0373a90",
   "metadata": {},
   "source": [
    "## Python quotes"
   ]
  },
  {
   "cell_type": "code",
   "execution_count": 23,
   "id": "f7b5f290",
   "metadata": {},
   "outputs": [
    {
     "data": {
      "text/plain": [
       "\"I'm Freek\""
      ]
     },
     "execution_count": 23,
     "metadata": {},
     "output_type": "execute_result"
    }
   ],
   "source": [
    "tekst = \"I'm Freek\"\n",
    "tekst"
   ]
  },
  {
   "cell_type": "code",
   "execution_count": 24,
   "id": "36335da2",
   "metadata": {},
   "outputs": [],
   "source": [
    "# tekst = 'I'm Freek'\n",
    "\n",
    "# SyntaxError: unterminated string literal (detected at line 1)"
   ]
  },
  {
   "cell_type": "code",
   "execution_count": 25,
   "id": "f143ac36",
   "metadata": {},
   "outputs": [
    {
     "data": {
      "text/plain": [
       "\"I'm Freek\""
      ]
     },
     "execution_count": 25,
     "metadata": {},
     "output_type": "execute_result"
    }
   ],
   "source": [
    "tekst = 'I\\'m Freek'\n",
    "tekst"
   ]
  },
  {
   "cell_type": "code",
   "execution_count": 26,
   "id": "3de39c71",
   "metadata": {},
   "outputs": [
    {
     "data": {
      "text/plain": [
       "'And he said, \"I\\'m Freek\"'"
      ]
     },
     "execution_count": 26,
     "metadata": {},
     "output_type": "execute_result"
    }
   ],
   "source": [
    "tekst = \"And he said, \\\"I'm Freek\\\"\"\n",
    "tekst"
   ]
  },
  {
   "cell_type": "code",
   "execution_count": 27,
   "id": "0163d7e0",
   "metadata": {},
   "outputs": [
    {
     "name": "stdout",
     "output_type": "stream",
     "text": [
      "And he said, \"I'm Freek\"\n"
     ]
    }
   ],
   "source": [
    "print(tekst)"
   ]
  },
  {
   "cell_type": "code",
   "execution_count": 35,
   "id": "5250e199",
   "metadata": {},
   "outputs": [
    {
     "data": {
      "text/plain": [
       "'C:\\\\OneDrive\\\\Work\\t. Code.Founders_\\x823-05-10 Les'"
      ]
     },
     "execution_count": 35,
     "metadata": {},
     "output_type": "execute_result"
    }
   ],
   "source": [
    "pad = \"C:\\OneDrive\\Work\\11. Code.Founders_\\2023-05-10 Les\"\n",
    "pad"
   ]
  },
  {
   "cell_type": "code",
   "execution_count": 36,
   "id": "10b5c3a2",
   "metadata": {},
   "outputs": [
    {
     "name": "stdout",
     "output_type": "stream",
     "text": [
      "C:\\OneDrive\\Work\t. Code.Founders_3-05-10 Les\n"
     ]
    }
   ],
   "source": [
    "print(pad)"
   ]
  },
  {
   "cell_type": "code",
   "execution_count": 32,
   "id": "b0fc68a5",
   "metadata": {},
   "outputs": [
    {
     "data": {
      "text/plain": [
       "'\\t'"
      ]
     },
     "execution_count": 32,
     "metadata": {},
     "output_type": "execute_result"
    }
   ],
   "source": [
    "'\\11'"
   ]
  },
  {
   "cell_type": "code",
   "execution_count": 33,
   "id": "fdecd002",
   "metadata": {},
   "outputs": [
    {
     "data": {
      "text/plain": [
       "'C:\\\\OneDrive\\\\Work\\\\11. Code.Founders_\\\\2023-05-10 Les'"
      ]
     },
     "execution_count": 33,
     "metadata": {},
     "output_type": "execute_result"
    }
   ],
   "source": [
    "pad = r\"C:\\OneDrive\\Work\\11. Code.Founders_\\2023-05-10 Les\"\n",
    "pad"
   ]
  },
  {
   "cell_type": "code",
   "execution_count": 34,
   "id": "80c5a74b",
   "metadata": {},
   "outputs": [
    {
     "name": "stdout",
     "output_type": "stream",
     "text": [
      "C:\\OneDrive\\Work\\11. Code.Founders_\\2023-05-10 Les\n"
     ]
    }
   ],
   "source": [
    "print(pad)"
   ]
  },
  {
   "cell_type": "markdown",
   "id": "81606c67",
   "metadata": {},
   "source": [
    "# Data laden"
   ]
  },
  {
   "cell_type": "code",
   "execution_count": 46,
   "id": "6bd10f93",
   "metadata": {},
   "outputs": [],
   "source": [
    "connection = connector.connect(host='127.0.0.1', user='root', database='data')"
   ]
  },
  {
   "cell_type": "code",
   "execution_count": 47,
   "id": "2a53cd4d",
   "metadata": {},
   "outputs": [],
   "source": [
    "cursor = connection.cursor()"
   ]
  },
  {
   "cell_type": "code",
   "execution_count": 16,
   "id": "242e2a3c",
   "metadata": {},
   "outputs": [],
   "source": [
    "cursor.execute('SELECT * FROM naam')"
   ]
  },
  {
   "cell_type": "code",
   "execution_count": 17,
   "id": "847c4ba3",
   "metadata": {},
   "outputs": [
    {
     "data": {
      "text/plain": [
       "[(1, 'Freek'), (2, 'Freek'), (3, 'Henk'), (4, 'Harry')]"
      ]
     },
     "execution_count": 17,
     "metadata": {},
     "output_type": "execute_result"
    }
   ],
   "source": [
    "cursor.fetchall()"
   ]
  },
  {
   "cell_type": "code",
   "execution_count": 37,
   "id": "274380ab",
   "metadata": {},
   "outputs": [],
   "source": [
    "cursor.execute(\"INSERT INTO naam (naam) VALUES ('Jenny')\")"
   ]
  },
  {
   "cell_type": "code",
   "execution_count": 38,
   "id": "038d8d3b",
   "metadata": {},
   "outputs": [],
   "source": [
    "connection.commit()"
   ]
  },
  {
   "cell_type": "code",
   "execution_count": 39,
   "id": "5bd49645",
   "metadata": {},
   "outputs": [],
   "source": [
    "cursor.execute('SELECT * FROM naam LEFT JOIN telefoonnummer ON naam.id = telefoonnummer.persoonId')"
   ]
  },
  {
   "cell_type": "code",
   "execution_count": 40,
   "id": "1e418248",
   "metadata": {},
   "outputs": [
    {
     "data": {
      "text/plain": [
       "[(3, 'Henk', 1, 3, 1234567890),\n",
       " (1, 'Freek', None, None, None),\n",
       " (2, 'Freek', None, None, None),\n",
       " (4, 'Harry', None, None, None),\n",
       " (5, 'Jenny', None, None, None)]"
      ]
     },
     "execution_count": 40,
     "metadata": {},
     "output_type": "execute_result"
    }
   ],
   "source": [
    "cursor.fetchall()"
   ]
  },
  {
   "cell_type": "code",
   "execution_count": 41,
   "id": "127f4044",
   "metadata": {},
   "outputs": [
    {
     "data": {
      "text/plain": [
       "['id', 'naam', 'id', 'persoonId', 'telefoonnummer']"
      ]
     },
     "execution_count": 41,
     "metadata": {},
     "output_type": "execute_result"
    }
   ],
   "source": [
    "[description[0] for description in cursor.description]"
   ]
  },
  {
   "cell_type": "code",
   "execution_count": 48,
   "id": "e9e48c12",
   "metadata": {},
   "outputs": [
    {
     "data": {
      "text/plain": [
       "[(3, 'Henk', 1234567890),\n",
       " (1, 'Freek', 823748974),\n",
       " (2, 'Freek', 19999),\n",
       " (3, 'Henk', 19122299),\n",
       " (5, 'Jenny', 991000),\n",
       " (4, 'Harry', None)]"
      ]
     },
     "execution_count": 48,
     "metadata": {},
     "output_type": "execute_result"
    }
   ],
   "source": [
    "cursor.execute('SELECT naam.id, naam, telefoonnummer FROM naam LEFT JOIN telefoonnummer ON naam.id = telefoonnummer.persoonId')\n",
    "cursor.fetchall()"
   ]
  },
  {
   "cell_type": "markdown",
   "id": "63732b74",
   "metadata": {},
   "source": [
    "# Extra database informatie en opdrachten"
   ]
  },
  {
   "cell_type": "markdown",
   "id": "e421cc2e",
   "metadata": {},
   "source": [
    "Zoals in de CRUD zijn er dus INSERT, SELECT, UPDATE en DELETE. Voor alle transacties die aanpassingen maken (Alles behalve SELECT) moet er nog een `connectie.commit()` worden gedaan om deze daadwerkelijk door te voeren.\n",
    "\n",
    "De SELECT statement is erg krachtig als je deze goed gebruikt. De basis is als volgt:\n",
    "```SQL\n",
    "SELECT kolomnaam1, kolomnaam2\n",
    "FROM tabelnaam\n",
    "```\n",
    "Hier kunnen zoveel kolomnamen worden gebruikt als gewenst, of `*` om alle bereikbare kolommen te tonen.\n",
    "\n",
    "Dit is uit te breiden met een filter met `WHERE`:\n",
    "```SQL\n",
    "SELECT *\n",
    "FROM tabelnaam\n",
    "WHERE conditie\n",
    "```"
   ]
  },
  {
   "cell_type": "markdown",
   "id": "e0953e94",
   "metadata": {},
   "source": [
    "## Benodigdheden voor de Opdrachten:\n",
    "- https://sourceforge.net/projects/awmysql/files/\n",
    "- Download de zip uit de bovenstaande link\n",
    "- Extraheer het .sql bestand\n",
    "- Open de shell van XAMPP\n",
    "- Navigeer naar de map waar je de .sql hebt neergezet\n",
    "- `mysql -uroot`\n",
    "- `source AWBackup.sql;`\n",
    "- Wacht tot dit klaar is\n",
    "- Nu zou de AdventureWorks database moeten zijn ingeladen"
   ]
  },
  {
   "cell_type": "markdown",
   "id": "6378a335",
   "metadata": {},
   "source": [
    "## Mogelijk ook interessant: https://www.w3schools.com/sql/"
   ]
  },
  {
   "cell_type": "markdown",
   "id": "d48a1e57",
   "metadata": {},
   "source": [
    "## Opdracht 1:\n",
    "1. Selecteer alle kolommen uit de `employee` tabel.\n",
    "2. Selecteer de `EmployeeID`, `LoginID` en `Title` uit de `employee` tabel.\n",
    "3. Filter deze kolommen op alléén mensen met de titel `Janitor`.\n",
    "4. Filter deze kolommen op alléén de mensen met een titel die start met `Production Technician`.\n",
    "    - Hint: Gebruikt `%` als wildcard om aan te geven dat het niet uit maakt wat ergens voor, tussen of na komt."
   ]
  },
  {
   "cell_type": "code",
   "execution_count": null,
   "id": "9feabd72",
   "metadata": {},
   "outputs": [],
   "source": []
  }
 ],
 "metadata": {
  "kernelspec": {
   "display_name": "Python 3 (ipykernel)",
   "language": "python",
   "name": "python3"
  },
  "language_info": {
   "codemirror_mode": {
    "name": "ipython",
    "version": 3
   },
   "file_extension": ".py",
   "mimetype": "text/x-python",
   "name": "python",
   "nbconvert_exporter": "python",
   "pygments_lexer": "ipython3",
   "version": "3.10.9"
  }
 },
 "nbformat": 4,
 "nbformat_minor": 5
}
