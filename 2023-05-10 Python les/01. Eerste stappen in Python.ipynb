{
 "cells": [
  {
   "cell_type": "markdown",
   "id": "e44cb089",
   "metadata": {},
   "source": [
    "# Wiskundige operators"
   ]
  },
  {
   "cell_type": "code",
   "execution_count": 1,
   "id": "e1def419",
   "metadata": {
    "scrolled": true
   },
   "outputs": [
    {
     "data": {
      "text/plain": [
       "6"
      ]
     },
     "execution_count": 1,
     "metadata": {},
     "output_type": "execute_result"
    }
   ],
   "source": [
    "3 + 3"
   ]
  },
  {
   "cell_type": "code",
   "execution_count": 2,
   "id": "3ddf0b72",
   "metadata": {},
   "outputs": [
    {
     "data": {
      "text/plain": [
       "2"
      ]
     },
     "execution_count": 2,
     "metadata": {},
     "output_type": "execute_result"
    }
   ],
   "source": [
    "5 - 3"
   ]
  },
  {
   "cell_type": "code",
   "execution_count": 3,
   "id": "be10bb6b",
   "metadata": {},
   "outputs": [
    {
     "data": {
      "text/plain": [
       "6"
      ]
     },
     "execution_count": 3,
     "metadata": {},
     "output_type": "execute_result"
    }
   ],
   "source": [
    "2 * 3"
   ]
  },
  {
   "cell_type": "code",
   "execution_count": 4,
   "id": "706ef2ed",
   "metadata": {},
   "outputs": [
    {
     "data": {
      "text/plain": [
       "3.3333333333333335"
      ]
     },
     "execution_count": 4,
     "metadata": {},
     "output_type": "execute_result"
    }
   ],
   "source": [
    "10 / 3"
   ]
  },
  {
   "cell_type": "code",
   "execution_count": 5,
   "id": "86bbb391",
   "metadata": {},
   "outputs": [
    {
     "data": {
      "text/plain": [
       "3"
      ]
     },
     "execution_count": 5,
     "metadata": {},
     "output_type": "execute_result"
    }
   ],
   "source": [
    "10 // 3"
   ]
  },
  {
   "cell_type": "code",
   "execution_count": 6,
   "id": "d09a3798",
   "metadata": {},
   "outputs": [
    {
     "data": {
      "text/plain": [
       "1"
      ]
     },
     "execution_count": 6,
     "metadata": {},
     "output_type": "execute_result"
    }
   ],
   "source": [
    "10 % 3"
   ]
  },
  {
   "cell_type": "code",
   "execution_count": 7,
   "id": "056620ae",
   "metadata": {},
   "outputs": [
    {
     "data": {
      "text/plain": [
       "8"
      ]
     },
     "execution_count": 7,
     "metadata": {},
     "output_type": "execute_result"
    }
   ],
   "source": [
    "2 ** 3"
   ]
  },
  {
   "cell_type": "markdown",
   "id": "02ae63ba",
   "metadata": {},
   "source": [
    "# Variabelen"
   ]
  },
  {
   "cell_type": "code",
   "execution_count": 8,
   "id": "27e743b0",
   "metadata": {},
   "outputs": [],
   "source": [
    "a = 3"
   ]
  },
  {
   "cell_type": "code",
   "execution_count": 9,
   "id": "f1f2bebb",
   "metadata": {},
   "outputs": [
    {
     "data": {
      "text/plain": [
       "3"
      ]
     },
     "execution_count": 9,
     "metadata": {},
     "output_type": "execute_result"
    }
   ],
   "source": [
    "a"
   ]
  },
  {
   "cell_type": "code",
   "execution_count": 10,
   "id": "7c93a731",
   "metadata": {},
   "outputs": [
    {
     "data": {
      "text/plain": [
       "5"
      ]
     },
     "execution_count": 10,
     "metadata": {},
     "output_type": "execute_result"
    }
   ],
   "source": [
    "a = 5\n",
    "a"
   ]
  },
  {
   "cell_type": "code",
   "execution_count": 11,
   "id": "93e73faf",
   "metadata": {},
   "outputs": [],
   "source": [
    "a = 'freek'"
   ]
  },
  {
   "cell_type": "code",
   "execution_count": 12,
   "id": "53173389",
   "metadata": {},
   "outputs": [
    {
     "data": {
      "text/plain": [
       "'freek'"
      ]
     },
     "execution_count": 12,
     "metadata": {},
     "output_type": "execute_result"
    }
   ],
   "source": [
    "a"
   ]
  },
  {
   "cell_type": "markdown",
   "id": "3a54c3b6",
   "metadata": {},
   "source": [
    "### Data Types\n",
    "- int = geheel getal\n",
    "- float = kommagetal\n",
    "- str = tekst\n",
    "- bool = True/False\n",
    "- list = lijst met waarden\n",
    "- dict = woordenboek met sleutels en waarden\n",
    "- tuple = lijst met waarden die niet aan te passen is"
   ]
  },
  {
   "cell_type": "code",
   "execution_count": 13,
   "id": "c0c4c9fe",
   "metadata": {},
   "outputs": [
    {
     "data": {
      "text/plain": [
       "3.3333333333333335"
      ]
     },
     "execution_count": 13,
     "metadata": {},
     "output_type": "execute_result"
    }
   ],
   "source": [
    "a = 10 / 3\n",
    "a"
   ]
  },
  {
   "cell_type": "code",
   "execution_count": 14,
   "id": "ac0480b4",
   "metadata": {},
   "outputs": [
    {
     "data": {
      "text/plain": [
       "5.0"
      ]
     },
     "execution_count": 14,
     "metadata": {},
     "output_type": "execute_result"
    }
   ],
   "source": [
    "a = 10 / 2.\n",
    "a"
   ]
  },
  {
   "cell_type": "code",
   "execution_count": 15,
   "id": "390d8d3d",
   "metadata": {},
   "outputs": [
    {
     "data": {
      "text/plain": [
       "15"
      ]
     },
     "execution_count": 15,
     "metadata": {},
     "output_type": "execute_result"
    }
   ],
   "source": [
    "a = 3\n",
    "5 * a"
   ]
  },
  {
   "cell_type": "code",
   "execution_count": 16,
   "id": "10653c60",
   "metadata": {},
   "outputs": [
    {
     "data": {
      "text/plain": [
       "25"
      ]
     },
     "execution_count": 16,
     "metadata": {},
     "output_type": "execute_result"
    }
   ],
   "source": [
    "a = 5\n",
    "5 * a"
   ]
  },
  {
   "cell_type": "code",
   "execution_count": 17,
   "id": "53ee237c",
   "metadata": {},
   "outputs": [],
   "source": [
    "tekst = 'Hallo ik ben Freek'"
   ]
  },
  {
   "cell_type": "code",
   "execution_count": 18,
   "id": "6945e52a",
   "metadata": {},
   "outputs": [
    {
     "data": {
      "text/plain": [
       "'Hallo ik ben Freek'"
      ]
     },
     "execution_count": 18,
     "metadata": {},
     "output_type": "execute_result"
    }
   ],
   "source": [
    "tekst"
   ]
  },
  {
   "cell_type": "code",
   "execution_count": 19,
   "id": "8446c4aa",
   "metadata": {},
   "outputs": [
    {
     "data": {
      "text/plain": [
       "'Hallo ik ben Freek en ik ben 30 jaar oud.'"
      ]
     },
     "execution_count": 19,
     "metadata": {},
     "output_type": "execute_result"
    }
   ],
   "source": [
    "tekst + ' en ik ben 30 jaar oud.'"
   ]
  },
  {
   "cell_type": "code",
   "execution_count": 20,
   "id": "5e51b8f6",
   "metadata": {},
   "outputs": [],
   "source": [
    "# tekst + ' en ik ben ' + 30 + ' jaar oud.'\n",
    "# TypeError: can only concatenate str (not \"int\") to str"
   ]
  },
  {
   "cell_type": "code",
   "execution_count": 21,
   "id": "8537e5eb",
   "metadata": {},
   "outputs": [
    {
     "data": {
      "text/plain": [
       "'Hallo ik ben Freek en ik ben 30 jaar oud.'"
      ]
     },
     "execution_count": 21,
     "metadata": {},
     "output_type": "execute_result"
    }
   ],
   "source": [
    "tekst + ' en ik ben ' + str(30) + ' jaar oud.'"
   ]
  },
  {
   "cell_type": "code",
   "execution_count": 22,
   "id": "ff43d8c1",
   "metadata": {},
   "outputs": [
    {
     "data": {
      "text/plain": [
       "'Hallo ik ben Freek'"
      ]
     },
     "execution_count": 22,
     "metadata": {},
     "output_type": "execute_result"
    }
   ],
   "source": [
    "tekst"
   ]
  },
  {
   "cell_type": "code",
   "execution_count": 23,
   "id": "181957bb",
   "metadata": {},
   "outputs": [
    {
     "data": {
      "text/plain": [
       "'Hallo ik ben FreekHallo ik ben FreekHallo ik ben Freek'"
      ]
     },
     "execution_count": 23,
     "metadata": {},
     "output_type": "execute_result"
    }
   ],
   "source": [
    "tekst * 3"
   ]
  },
  {
   "cell_type": "code",
   "execution_count": 24,
   "id": "af46a617",
   "metadata": {},
   "outputs": [
    {
     "data": {
      "text/plain": [
       "6"
      ]
     },
     "execution_count": 24,
     "metadata": {},
     "output_type": "execute_result"
    }
   ],
   "source": [
    "3 + 3"
   ]
  },
  {
   "cell_type": "code",
   "execution_count": 25,
   "id": "71393ba5",
   "metadata": {},
   "outputs": [
    {
     "data": {
      "text/plain": [
       "9"
      ]
     },
     "execution_count": 25,
     "metadata": {},
     "output_type": "execute_result"
    }
   ],
   "source": [
    "3 * 3"
   ]
  },
  {
   "cell_type": "code",
   "execution_count": 26,
   "id": "de437fad",
   "metadata": {},
   "outputs": [
    {
     "data": {
      "text/plain": [
       "'Hallo ik ben FreekHallo ik ben FreekHallo ik ben Freek'"
      ]
     },
     "execution_count": 26,
     "metadata": {},
     "output_type": "execute_result"
    }
   ],
   "source": [
    "tekst + tekst + tekst"
   ]
  },
  {
   "cell_type": "code",
   "execution_count": 27,
   "id": "04372017",
   "metadata": {},
   "outputs": [
    {
     "data": {
      "text/plain": [
       "'--------------------'"
      ]
     },
     "execution_count": 27,
     "metadata": {},
     "output_type": "execute_result"
    }
   ],
   "source": [
    "'-' * 20"
   ]
  },
  {
   "cell_type": "code",
   "execution_count": 28,
   "id": "59ac1cad",
   "metadata": {},
   "outputs": [
    {
     "data": {
      "text/plain": [
       "'Hallo ik ben Freek'"
      ]
     },
     "execution_count": 28,
     "metadata": {},
     "output_type": "execute_result"
    }
   ],
   "source": [
    "tekst"
   ]
  },
  {
   "cell_type": "code",
   "execution_count": 29,
   "id": "40509e25",
   "metadata": {},
   "outputs": [
    {
     "data": {
      "text/plain": [
       "'o'"
      ]
     },
     "execution_count": 29,
     "metadata": {},
     "output_type": "execute_result"
    }
   ],
   "source": [
    "tekst[4]"
   ]
  },
  {
   "cell_type": "code",
   "execution_count": 30,
   "id": "154d63ba",
   "metadata": {},
   "outputs": [
    {
     "data": {
      "text/plain": [
       "[1, 6, 8, 9, 'a', 'b']"
      ]
     },
     "execution_count": 30,
     "metadata": {},
     "output_type": "execute_result"
    }
   ],
   "source": [
    "lijst = [1, 6, 8, 9, 'a', 'b']\n",
    "lijst"
   ]
  },
  {
   "cell_type": "code",
   "execution_count": 31,
   "id": "81ce0051",
   "metadata": {},
   "outputs": [
    {
     "data": {
      "text/plain": [
       "'a'"
      ]
     },
     "execution_count": 31,
     "metadata": {},
     "output_type": "execute_result"
    }
   ],
   "source": [
    "lijst[4]"
   ]
  },
  {
   "cell_type": "code",
   "execution_count": 32,
   "id": "854cb14f",
   "metadata": {},
   "outputs": [
    {
     "data": {
      "text/plain": [
       "[9, 'a']"
      ]
     },
     "execution_count": 32,
     "metadata": {},
     "output_type": "execute_result"
    }
   ],
   "source": [
    "lijst[3:5]"
   ]
  },
  {
   "cell_type": "code",
   "execution_count": 33,
   "id": "77b4218d",
   "metadata": {},
   "outputs": [
    {
     "data": {
      "text/plain": [
       "[1, 6, 8, 9]"
      ]
     },
     "execution_count": 33,
     "metadata": {},
     "output_type": "execute_result"
    }
   ],
   "source": [
    "lijst[0:4]"
   ]
  },
  {
   "cell_type": "code",
   "execution_count": 34,
   "id": "c570756c",
   "metadata": {},
   "outputs": [
    {
     "data": {
      "text/plain": [
       "[1, 6, 8, 9]"
      ]
     },
     "execution_count": 34,
     "metadata": {},
     "output_type": "execute_result"
    }
   ],
   "source": [
    "lijst[:4]"
   ]
  },
  {
   "cell_type": "code",
   "execution_count": 35,
   "id": "d4e46899",
   "metadata": {},
   "outputs": [
    {
     "data": {
      "text/plain": [
       "['a', 'b']"
      ]
     },
     "execution_count": 35,
     "metadata": {},
     "output_type": "execute_result"
    }
   ],
   "source": [
    "lijst[4:]"
   ]
  },
  {
   "cell_type": "code",
   "execution_count": 36,
   "id": "d1bcd070",
   "metadata": {},
   "outputs": [
    {
     "data": {
      "text/plain": [
       "'a'"
      ]
     },
     "execution_count": 36,
     "metadata": {},
     "output_type": "execute_result"
    }
   ],
   "source": [
    "lijst[4]"
   ]
  },
  {
   "cell_type": "code",
   "execution_count": 37,
   "id": "3f4bdbd8",
   "metadata": {},
   "outputs": [
    {
     "data": {
      "text/plain": [
       "'b'"
      ]
     },
     "execution_count": 37,
     "metadata": {},
     "output_type": "execute_result"
    }
   ],
   "source": [
    "lijst[-1]"
   ]
  },
  {
   "cell_type": "code",
   "execution_count": 38,
   "id": "b156af18",
   "metadata": {},
   "outputs": [
    {
     "data": {
      "text/plain": [
       "'a'"
      ]
     },
     "execution_count": 38,
     "metadata": {},
     "output_type": "execute_result"
    }
   ],
   "source": [
    "lijst[-2]"
   ]
  },
  {
   "cell_type": "code",
   "execution_count": 39,
   "id": "f8d3f61e",
   "metadata": {},
   "outputs": [
    {
     "data": {
      "text/plain": [
       "[1, 6, 8]"
      ]
     },
     "execution_count": 39,
     "metadata": {},
     "output_type": "execute_result"
    }
   ],
   "source": [
    "lijst[:-3]"
   ]
  },
  {
   "cell_type": "code",
   "execution_count": 40,
   "id": "0f449045",
   "metadata": {},
   "outputs": [
    {
     "data": {
      "text/plain": [
       "'Hallo ik ben Freek'"
      ]
     },
     "execution_count": 40,
     "metadata": {},
     "output_type": "execute_result"
    }
   ],
   "source": [
    "tekst"
   ]
  },
  {
   "cell_type": "code",
   "execution_count": 41,
   "id": "fa825bba",
   "metadata": {},
   "outputs": [
    {
     "data": {
      "text/plain": [
       "'Hallo'"
      ]
     },
     "execution_count": 41,
     "metadata": {},
     "output_type": "execute_result"
    }
   ],
   "source": [
    "tekst[:5]"
   ]
  },
  {
   "cell_type": "code",
   "execution_count": 42,
   "id": "0673b615",
   "metadata": {},
   "outputs": [
    {
     "data": {
      "text/plain": [
       "'Freek'"
      ]
     },
     "execution_count": 42,
     "metadata": {},
     "output_type": "execute_result"
    }
   ],
   "source": [
    "tekst[-5:]"
   ]
  },
  {
   "cell_type": "code",
   "execution_count": 43,
   "id": "300bbba1",
   "metadata": {},
   "outputs": [
    {
     "data": {
      "text/plain": [
       "'Hloi e re'"
      ]
     },
     "execution_count": 43,
     "metadata": {},
     "output_type": "execute_result"
    }
   ],
   "source": [
    "tekst[::2]"
   ]
  },
  {
   "cell_type": "code",
   "execution_count": 44,
   "id": "b1fae831",
   "metadata": {},
   "outputs": [
    {
     "data": {
      "text/plain": [
       "'al kbnFek'"
      ]
     },
     "execution_count": 44,
     "metadata": {},
     "output_type": "execute_result"
    }
   ],
   "source": [
    "tekst[1::2]"
   ]
  },
  {
   "cell_type": "code",
   "execution_count": 45,
   "id": "41fd8561",
   "metadata": {},
   "outputs": [
    {
     "data": {
      "text/plain": [
       "[0, 1, 2, 3, 4, 5, 6, 7, 8, 9]"
      ]
     },
     "execution_count": 45,
     "metadata": {},
     "output_type": "execute_result"
    }
   ],
   "source": [
    "x = list(range(10))\n",
    "x"
   ]
  },
  {
   "cell_type": "code",
   "execution_count": 46,
   "id": "b97de128",
   "metadata": {},
   "outputs": [
    {
     "data": {
      "text/plain": [
       "[0, 2, 4, 6, 8]"
      ]
     },
     "execution_count": 46,
     "metadata": {},
     "output_type": "execute_result"
    }
   ],
   "source": [
    "x[::2]"
   ]
  },
  {
   "cell_type": "code",
   "execution_count": 47,
   "id": "ec0fc847",
   "metadata": {},
   "outputs": [
    {
     "data": {
      "text/plain": [
       "[1, 3, 5, 7, 9]"
      ]
     },
     "execution_count": 47,
     "metadata": {},
     "output_type": "execute_result"
    }
   ],
   "source": [
    "x[1::2]"
   ]
  },
  {
   "cell_type": "code",
   "execution_count": 48,
   "id": "30f15ffc",
   "metadata": {},
   "outputs": [
    {
     "data": {
      "text/plain": [
       "[1, 6, 8, 9, 'a', 'b']"
      ]
     },
     "execution_count": 48,
     "metadata": {},
     "output_type": "execute_result"
    }
   ],
   "source": [
    "lijst"
   ]
  },
  {
   "cell_type": "code",
   "execution_count": 49,
   "id": "a2b8df16",
   "metadata": {},
   "outputs": [
    {
     "data": {
      "text/plain": [
       "[1, 6, 8, 9, 'c', 'b']"
      ]
     },
     "execution_count": 49,
     "metadata": {},
     "output_type": "execute_result"
    }
   ],
   "source": [
    "lijst[4] = 'c'\n",
    "lijst"
   ]
  },
  {
   "cell_type": "code",
   "execution_count": 50,
   "id": "271913f1",
   "metadata": {},
   "outputs": [],
   "source": [
    "# tekst[4] = 'a'\n",
    "# TypeError: 'str' object does not support item assignment"
   ]
  },
  {
   "cell_type": "code",
   "execution_count": 116,
   "id": "eda3bc39",
   "metadata": {},
   "outputs": [
    {
     "data": {
      "text/plain": [
       "[1, 6, 8, 9, 'c', 'b', 'a']"
      ]
     },
     "execution_count": 116,
     "metadata": {},
     "output_type": "execute_result"
    }
   ],
   "source": [
    "lijst.append('a')\n",
    "lijst"
   ]
  },
  {
   "cell_type": "code",
   "execution_count": 117,
   "id": "a2eee874",
   "metadata": {},
   "outputs": [
    {
     "data": {
      "text/plain": [
       "'a'"
      ]
     },
     "execution_count": 117,
     "metadata": {},
     "output_type": "execute_result"
    }
   ],
   "source": [
    "lijst.pop()"
   ]
  },
  {
   "cell_type": "code",
   "execution_count": 119,
   "id": "790a1afc",
   "metadata": {},
   "outputs": [
    {
     "data": {
      "text/plain": [
       "[1, 6, 8, 'a', 9, 'c', 'b']"
      ]
     },
     "execution_count": 119,
     "metadata": {},
     "output_type": "execute_result"
    }
   ],
   "source": [
    "lijst.insert(3, 'a')\n",
    "lijst"
   ]
  },
  {
   "cell_type": "code",
   "execution_count": 120,
   "id": "0b5ded99",
   "metadata": {},
   "outputs": [
    {
     "data": {
      "text/plain": [
       "'a'"
      ]
     },
     "execution_count": 120,
     "metadata": {},
     "output_type": "execute_result"
    }
   ],
   "source": [
    "lijst.pop(3)"
   ]
  },
  {
   "cell_type": "code",
   "execution_count": 121,
   "id": "1da62c2b",
   "metadata": {},
   "outputs": [
    {
     "data": {
      "text/plain": [
       "[1, 6, 8, 9, 'c', 'b']"
      ]
     },
     "execution_count": 121,
     "metadata": {},
     "output_type": "execute_result"
    }
   ],
   "source": [
    "lijst"
   ]
  },
  {
   "cell_type": "code",
   "execution_count": null,
   "id": "21c50835",
   "metadata": {},
   "outputs": [],
   "source": []
  },
  {
   "cell_type": "code",
   "execution_count": 51,
   "id": "7f2720b9",
   "metadata": {},
   "outputs": [],
   "source": [
    "a = 3\n",
    "a = 5"
   ]
  },
  {
   "cell_type": "code",
   "execution_count": 52,
   "id": "5ead3641",
   "metadata": {},
   "outputs": [
    {
     "data": {
      "text/plain": [
       "'Halla ik ben Freek'"
      ]
     },
     "execution_count": 52,
     "metadata": {},
     "output_type": "execute_result"
    }
   ],
   "source": [
    "tekst[:4] + 'a' + tekst[5:]"
   ]
  },
  {
   "cell_type": "code",
   "execution_count": 53,
   "id": "dbf0307c",
   "metadata": {},
   "outputs": [
    {
     "data": {
      "text/plain": [
       "(1, 6, 8, 9, 'c', 'b')"
      ]
     },
     "execution_count": 53,
     "metadata": {},
     "output_type": "execute_result"
    }
   ],
   "source": [
    "tuple(lijst)"
   ]
  },
  {
   "cell_type": "code",
   "execution_count": 54,
   "id": "e6cd1e17",
   "metadata": {},
   "outputs": [
    {
     "data": {
      "text/plain": [
       "(1, 6, 8, 9, 'c', 'b')"
      ]
     },
     "execution_count": 54,
     "metadata": {},
     "output_type": "execute_result"
    }
   ],
   "source": [
    "t = tuple(lijst)\n",
    "t"
   ]
  },
  {
   "cell_type": "code",
   "execution_count": 55,
   "id": "1fd59bbb",
   "metadata": {},
   "outputs": [],
   "source": [
    "# t[4] = 'a'\n",
    "# TypeError: 'tuple' object does not support item assignment"
   ]
  },
  {
   "cell_type": "code",
   "execution_count": 56,
   "id": "dec3cbb9",
   "metadata": {},
   "outputs": [
    {
     "data": {
      "text/plain": [
       "(1, 6, 8, 9, 'a', 'b')"
      ]
     },
     "execution_count": 56,
     "metadata": {},
     "output_type": "execute_result"
    }
   ],
   "source": [
    "t = t[:4] + ('a', ) + t[5:]\n",
    "t"
   ]
  },
  {
   "cell_type": "code",
   "execution_count": 57,
   "id": "9fa1783f",
   "metadata": {},
   "outputs": [
    {
     "data": {
      "text/plain": [
       "('a',)"
      ]
     },
     "execution_count": 57,
     "metadata": {},
     "output_type": "execute_result"
    }
   ],
   "source": [
    "('a', )"
   ]
  },
  {
   "cell_type": "code",
   "execution_count": 58,
   "id": "e976e903",
   "metadata": {},
   "outputs": [],
   "source": [
    "personen = ['Henk', 18, 'Freek', 30]"
   ]
  },
  {
   "cell_type": "code",
   "execution_count": 59,
   "id": "6cce060d",
   "metadata": {},
   "outputs": [
    {
     "data": {
      "text/plain": [
       "['Henk', 'Freek']"
      ]
     },
     "execution_count": 59,
     "metadata": {},
     "output_type": "execute_result"
    }
   ],
   "source": [
    "personen[::2]"
   ]
  },
  {
   "cell_type": "code",
   "execution_count": 60,
   "id": "db6c92d5",
   "metadata": {},
   "outputs": [
    {
     "data": {
      "text/plain": [
       "[18, 30]"
      ]
     },
     "execution_count": 60,
     "metadata": {},
     "output_type": "execute_result"
    }
   ],
   "source": [
    "personen[1::2]"
   ]
  },
  {
   "cell_type": "code",
   "execution_count": 61,
   "id": "e15f0d36",
   "metadata": {},
   "outputs": [],
   "source": [
    "personen = {'Henk': 18, 'Freek': 30}"
   ]
  },
  {
   "cell_type": "code",
   "execution_count": 62,
   "id": "7e56a751",
   "metadata": {},
   "outputs": [
    {
     "data": {
      "text/plain": [
       "18"
      ]
     },
     "execution_count": 62,
     "metadata": {},
     "output_type": "execute_result"
    }
   ],
   "source": [
    "personen['Henk']"
   ]
  },
  {
   "cell_type": "code",
   "execution_count": 63,
   "id": "3c5706c6",
   "metadata": {},
   "outputs": [
    {
     "data": {
      "text/plain": [
       "'rietje'"
      ]
     },
     "execution_count": 63,
     "metadata": {},
     "output_type": "execute_result"
    }
   ],
   "source": [
    "vertaling = {'hi': 'hoi', 'straw': 'rietje'}\n",
    "vertaling['straw']"
   ]
  },
  {
   "cell_type": "code",
   "execution_count": 64,
   "id": "bf8b2b56",
   "metadata": {},
   "outputs": [
    {
     "data": {
      "text/plain": [
       "dict_keys(['Henk', 'Freek'])"
      ]
     },
     "execution_count": 64,
     "metadata": {},
     "output_type": "execute_result"
    }
   ],
   "source": [
    "personen.keys()"
   ]
  },
  {
   "cell_type": "code",
   "execution_count": 65,
   "id": "8f2e3446",
   "metadata": {},
   "outputs": [
    {
     "data": {
      "text/plain": [
       "dict_values([18, 30])"
      ]
     },
     "execution_count": 65,
     "metadata": {},
     "output_type": "execute_result"
    }
   ],
   "source": [
    "personen.values()"
   ]
  },
  {
   "cell_type": "code",
   "execution_count": 66,
   "id": "5e59b982",
   "metadata": {},
   "outputs": [],
   "source": [
    "personen = [\n",
    "    {\n",
    "        'naam': 'Henk',\n",
    "        'leeftijd': 18\n",
    "    },\n",
    "    {\n",
    "        'naam': 'Freek',\n",
    "        'leeftijd': 30\n",
    "    }\n",
    "]"
   ]
  },
  {
   "cell_type": "code",
   "execution_count": 67,
   "id": "a2236c0b",
   "metadata": {},
   "outputs": [
    {
     "data": {
      "text/plain": [
       "[{'naam': 'Henk', 'leeftijd': 18}, {'naam': 'Freek', 'leeftijd': 30}]"
      ]
     },
     "execution_count": 67,
     "metadata": {},
     "output_type": "execute_result"
    }
   ],
   "source": [
    "personen"
   ]
  },
  {
   "cell_type": "code",
   "execution_count": 68,
   "id": "10ffcd5f",
   "metadata": {},
   "outputs": [
    {
     "data": {
      "text/plain": [
       "'Henk'"
      ]
     },
     "execution_count": 68,
     "metadata": {},
     "output_type": "execute_result"
    }
   ],
   "source": [
    "personen[0]['naam']"
   ]
  },
  {
   "cell_type": "code",
   "execution_count": 69,
   "id": "a323183e",
   "metadata": {},
   "outputs": [
    {
     "data": {
      "text/plain": [
       "{'naam': 'Henk', 'leeftijd': 18}"
      ]
     },
     "execution_count": 69,
     "metadata": {},
     "output_type": "execute_result"
    }
   ],
   "source": [
    "personen[0]"
   ]
  },
  {
   "cell_type": "code",
   "execution_count": 70,
   "id": "a52df5d2",
   "metadata": {},
   "outputs": [
    {
     "data": {
      "text/plain": [
       "'H'"
      ]
     },
     "execution_count": 70,
     "metadata": {},
     "output_type": "execute_result"
    }
   ],
   "source": [
    "personen[0]['naam'][0]"
   ]
  },
  {
   "cell_type": "markdown",
   "id": "3c1655e6",
   "metadata": {},
   "source": [
    "# Input en output"
   ]
  },
  {
   "cell_type": "code",
   "execution_count": 71,
   "id": "656002bf",
   "metadata": {},
   "outputs": [
    {
     "data": {
      "text/plain": [
       "[{'naam': 'Henk', 'leeftijd': 18}, {'naam': 'Freek', 'leeftijd': 30}]"
      ]
     },
     "execution_count": 71,
     "metadata": {},
     "output_type": "execute_result"
    }
   ],
   "source": [
    "personen"
   ]
  },
  {
   "cell_type": "code",
   "execution_count": 72,
   "id": "2e7a71b7",
   "metadata": {},
   "outputs": [
    {
     "name": "stdout",
     "output_type": "stream",
     "text": [
      "[1, 6, 8, 9, 'c', 'b']\n"
     ]
    }
   ],
   "source": [
    "print(lijst)"
   ]
  },
  {
   "cell_type": "code",
   "execution_count": 73,
   "id": "25b824c0",
   "metadata": {},
   "outputs": [
    {
     "data": {
      "text/plain": [
       "[1, 6, 8, 9, 'c', 'b']"
      ]
     },
     "execution_count": 73,
     "metadata": {},
     "output_type": "execute_result"
    }
   ],
   "source": [
    "lijst"
   ]
  },
  {
   "cell_type": "code",
   "execution_count": 74,
   "id": "402882a6",
   "metadata": {},
   "outputs": [
    {
     "data": {
      "text/plain": [
       "'Hallo ik ben Freek'"
      ]
     },
     "execution_count": 74,
     "metadata": {},
     "output_type": "execute_result"
    }
   ],
   "source": [
    "tekst"
   ]
  },
  {
   "cell_type": "code",
   "execution_count": 75,
   "id": "05d1d156",
   "metadata": {},
   "outputs": [
    {
     "name": "stdout",
     "output_type": "stream",
     "text": [
      "Hallo ik ben Freek\n"
     ]
    }
   ],
   "source": [
    "print(tekst)"
   ]
  },
  {
   "cell_type": "code",
   "execution_count": 76,
   "id": "67da909c",
   "metadata": {},
   "outputs": [],
   "source": [
    "# leeftijd = input('Wat is je leeftijd? ')"
   ]
  },
  {
   "cell_type": "code",
   "execution_count": 77,
   "id": "b9d114c2",
   "metadata": {},
   "outputs": [],
   "source": [
    "# leeftijd"
   ]
  },
  {
   "cell_type": "code",
   "execution_count": 78,
   "id": "1d2f6b4c",
   "metadata": {},
   "outputs": [],
   "source": [
    "# int(leeftijd)"
   ]
  },
  {
   "cell_type": "code",
   "execution_count": 79,
   "id": "707f27f5",
   "metadata": {},
   "outputs": [],
   "source": [
    "# leeftijd * 3"
   ]
  },
  {
   "cell_type": "code",
   "execution_count": 80,
   "id": "08b89bb2",
   "metadata": {},
   "outputs": [],
   "source": [
    "# int(leeftijd) * 3"
   ]
  },
  {
   "cell_type": "markdown",
   "id": "a62bd880",
   "metadata": {},
   "source": [
    "# Bool en control flow (if/elif/else)"
   ]
  },
  {
   "cell_type": "code",
   "execution_count": 81,
   "id": "bfb54c62",
   "metadata": {},
   "outputs": [],
   "source": [
    "leeftijd = 30"
   ]
  },
  {
   "cell_type": "code",
   "execution_count": 82,
   "id": "5b702e72",
   "metadata": {},
   "outputs": [
    {
     "data": {
      "text/plain": [
       "True"
      ]
     },
     "execution_count": 82,
     "metadata": {},
     "output_type": "execute_result"
    }
   ],
   "source": [
    "leeftijd >= 18"
   ]
  },
  {
   "cell_type": "code",
   "execution_count": 83,
   "id": "589c3e5b",
   "metadata": {},
   "outputs": [
    {
     "data": {
      "text/plain": [
       "True"
      ]
     },
     "execution_count": 83,
     "metadata": {},
     "output_type": "execute_result"
    }
   ],
   "source": [
    "True"
   ]
  },
  {
   "cell_type": "code",
   "execution_count": 84,
   "id": "564f3922",
   "metadata": {},
   "outputs": [
    {
     "data": {
      "text/plain": [
       "False"
      ]
     },
     "execution_count": 84,
     "metadata": {},
     "output_type": "execute_result"
    }
   ],
   "source": [
    "False"
   ]
  },
  {
   "cell_type": "code",
   "execution_count": 85,
   "id": "310088f0",
   "metadata": {},
   "outputs": [
    {
     "data": {
      "text/plain": [
       "False"
      ]
     },
     "execution_count": 85,
     "metadata": {},
     "output_type": "execute_result"
    }
   ],
   "source": [
    "leeftijd = 16\n",
    "leeftijd >= 18"
   ]
  },
  {
   "cell_type": "code",
   "execution_count": 86,
   "id": "e3eea36b",
   "metadata": {},
   "outputs": [
    {
     "name": "stdout",
     "output_type": "stream",
     "text": [
      "Je mag de club NIET in\n"
     ]
    }
   ],
   "source": [
    "leeftijd = 3\n",
    "if leeftijd >= 18:\n",
    "    print('Je mag de club in')\n",
    "else:\n",
    "    print('Je mag de club NIET in')"
   ]
  },
  {
   "cell_type": "code",
   "execution_count": 87,
   "id": "634ad187",
   "metadata": {},
   "outputs": [
    {
     "name": "stdout",
     "output_type": "stream",
     "text": [
      "Je mag naar kinderfeesten\n"
     ]
    }
   ],
   "source": [
    "leeftijd = 3\n",
    "if leeftijd >= 18:\n",
    "    print('Je mag naar feesten van 18+')\n",
    "elif leeftijd >= 16:\n",
    "    print('Je mag naar feesten van 16+')\n",
    "else:\n",
    "    print('Je mag naar kinderfeesten')"
   ]
  },
  {
   "cell_type": "code",
   "execution_count": 88,
   "id": "fa71c722",
   "metadata": {},
   "outputs": [
    {
     "name": "stdout",
     "output_type": "stream",
     "text": [
      "Je mag naar feesten van 16+\n"
     ]
    }
   ],
   "source": [
    "leeftijd = 17\n",
    "if leeftijd >= 18:\n",
    "    print('Je mag naar feesten van 18+')\n",
    "elif leeftijd >= 16:\n",
    "    print('Je mag naar feesten van 16+')\n",
    "else:\n",
    "    print('Je mag naar kinderfeesten')"
   ]
  },
  {
   "cell_type": "code",
   "execution_count": 89,
   "id": "f6b0db68",
   "metadata": {},
   "outputs": [
    {
     "name": "stdout",
     "output_type": "stream",
     "text": [
      "Je mag naar feesten van 18+\n"
     ]
    }
   ],
   "source": [
    "leeftijd = 22\n",
    "if leeftijd >= 18:\n",
    "    print('Je mag naar feesten van 18+')\n",
    "elif leeftijd >= 16:\n",
    "    print('Je mag naar feesten van 16+')\n",
    "else:\n",
    "    print('Je mag naar kinderfeesten')"
   ]
  },
  {
   "cell_type": "code",
   "execution_count": 90,
   "id": "e6fe4046",
   "metadata": {},
   "outputs": [
    {
     "name": "stdout",
     "output_type": "stream",
     "text": [
      "Je mag naar feesten van 18+\n",
      "Je mag naar feesten van 16+\n"
     ]
    }
   ],
   "source": [
    "leeftijd = 22\n",
    "if leeftijd >= 18:\n",
    "    print('Je mag naar feesten van 18+')\n",
    "if leeftijd >= 16:\n",
    "    print('Je mag naar feesten van 16+')\n",
    "else:\n",
    "    print('Je mag naar kinderfeesten')"
   ]
  },
  {
   "cell_type": "raw",
   "id": "54a6bf8e",
   "metadata": {},
   "source": [
    "if (leeftijd >= 18) {\n",
    "    console.log(\"Je mag naar feesten van 18+\")\n",
    "}"
   ]
  },
  {
   "cell_type": "code",
   "execution_count": 91,
   "id": "c5922747",
   "metadata": {},
   "outputs": [],
   "source": [
    "# if = 3\n",
    "# SyntaxError: invalid syntax"
   ]
  },
  {
   "cell_type": "code",
   "execution_count": 92,
   "id": "7c213957",
   "metadata": {},
   "outputs": [
    {
     "data": {
      "text/plain": [
       "3"
      ]
     },
     "execution_count": 92,
     "metadata": {},
     "output_type": "execute_result"
    }
   ],
   "source": [
    "int('3')"
   ]
  },
  {
   "cell_type": "code",
   "execution_count": 93,
   "id": "8b896c8d",
   "metadata": {},
   "outputs": [],
   "source": [
    "# int = 3\n",
    "\n",
    "# int('3')\n",
    "# TypeError: 'int' object is not callable"
   ]
  },
  {
   "cell_type": "code",
   "execution_count": 94,
   "id": "58e54ae9",
   "metadata": {},
   "outputs": [
    {
     "name": "stdout",
     "output_type": "stream",
     "text": [
      "Dat is waar\n",
      "8\n"
     ]
    }
   ],
   "source": [
    "if 4 == 4:\n",
    "    print('Dat is waar')\n",
    "    print(4 + 4)"
   ]
  },
  {
   "cell_type": "code",
   "execution_count": 95,
   "id": "6f63e6ba",
   "metadata": {},
   "outputs": [
    {
     "name": "stdout",
     "output_type": "stream",
     "text": [
      "Nog iets\n"
     ]
    }
   ],
   "source": [
    "if 4 == 3:\n",
    "    print('Dat is waar')\n",
    "    print(4 + 4)\n",
    "print('Nog iets')"
   ]
  },
  {
   "cell_type": "code",
   "execution_count": 96,
   "id": "c807ae79",
   "metadata": {},
   "outputs": [
    {
     "name": "stdout",
     "output_type": "stream",
     "text": [
      "Nog iets\n"
     ]
    }
   ],
   "source": [
    "if False:\n",
    "    print('Dat is waar')\n",
    "    print(4 + 4)\n",
    "print('Nog iets')"
   ]
  },
  {
   "cell_type": "code",
   "execution_count": 98,
   "id": "2b9f98ac",
   "metadata": {},
   "outputs": [],
   "source": [
    "lege_lijst = []\n",
    "lege_string = ''\n",
    "lege_dictionary = {}"
   ]
  },
  {
   "cell_type": "code",
   "execution_count": 99,
   "id": "b9936523",
   "metadata": {},
   "outputs": [
    {
     "name": "stdout",
     "output_type": "stream",
     "text": [
      "dit is onwaar\n"
     ]
    }
   ],
   "source": [
    "if 0:\n",
    "    print('dit is waar')\n",
    "else:\n",
    "    print('dit is onwaar')"
   ]
  },
  {
   "cell_type": "code",
   "execution_count": 100,
   "id": "fe9cc601",
   "metadata": {},
   "outputs": [
    {
     "name": "stdout",
     "output_type": "stream",
     "text": [
      "dit is waar\n"
     ]
    }
   ],
   "source": [
    "if 1:\n",
    "    print('dit is waar')\n",
    "else:\n",
    "    print('dit is onwaar')"
   ]
  },
  {
   "cell_type": "code",
   "execution_count": 101,
   "id": "6c1eaa58",
   "metadata": {},
   "outputs": [
    {
     "name": "stdout",
     "output_type": "stream",
     "text": [
      "dit is waar\n"
     ]
    }
   ],
   "source": [
    "if 12893:\n",
    "    print('dit is waar')\n",
    "else:\n",
    "    print('dit is onwaar')"
   ]
  },
  {
   "cell_type": "code",
   "execution_count": 102,
   "id": "1a6553a0",
   "metadata": {},
   "outputs": [
    {
     "name": "stdout",
     "output_type": "stream",
     "text": [
      "dit is waar\n"
     ]
    }
   ],
   "source": [
    "if -1283918293:\n",
    "    print('dit is waar')\n",
    "else:\n",
    "    print('dit is onwaar')"
   ]
  },
  {
   "cell_type": "code",
   "execution_count": 103,
   "id": "cc381ff0",
   "metadata": {},
   "outputs": [
    {
     "data": {
      "text/plain": [
       "True"
      ]
     },
     "execution_count": 103,
     "metadata": {},
     "output_type": "execute_result"
    }
   ],
   "source": [
    "bool(1238981923)"
   ]
  },
  {
   "cell_type": "code",
   "execution_count": 104,
   "id": "ead5b23d",
   "metadata": {},
   "outputs": [
    {
     "data": {
      "text/plain": [
       "False"
      ]
     },
     "execution_count": 104,
     "metadata": {},
     "output_type": "execute_result"
    }
   ],
   "source": [
    "bool(0)"
   ]
  },
  {
   "cell_type": "code",
   "execution_count": 105,
   "id": "9604782a",
   "metadata": {},
   "outputs": [
    {
     "data": {
      "text/plain": [
       "True"
      ]
     },
     "execution_count": 105,
     "metadata": {},
     "output_type": "execute_result"
    }
   ],
   "source": [
    "bool(lijst)"
   ]
  },
  {
   "cell_type": "code",
   "execution_count": 106,
   "id": "d5804e3f",
   "metadata": {},
   "outputs": [
    {
     "data": {
      "text/plain": [
       "False"
      ]
     },
     "execution_count": 106,
     "metadata": {},
     "output_type": "execute_result"
    }
   ],
   "source": [
    "bool(lege_lijst)"
   ]
  },
  {
   "cell_type": "markdown",
   "id": "0023d1d4",
   "metadata": {},
   "source": [
    "### Operators voor condities:\n",
    "- == Gelijk aan\n",
    "- != Ongelijk aan\n",
    "- \\> Groter dan\n",
    "- < Kleiner dan\n",
    "- \\>= Groter dan of gelijk aan\n",
    "- <= Kleiner dan of gelijk aan\n",
    "- not\n",
    "- or\n",
    "- and"
   ]
  },
  {
   "cell_type": "code",
   "execution_count": 107,
   "id": "6836a32b",
   "metadata": {},
   "outputs": [
    {
     "name": "stdout",
     "output_type": "stream",
     "text": [
      "die is leeg\n"
     ]
    }
   ],
   "source": [
    "if lege_lijst == []:\n",
    "    print('die is leeg')"
   ]
  },
  {
   "cell_type": "code",
   "execution_count": 109,
   "id": "a6b156d3",
   "metadata": {},
   "outputs": [
    {
     "data": {
      "text/plain": [
       "False"
      ]
     },
     "execution_count": 109,
     "metadata": {},
     "output_type": "execute_result"
    }
   ],
   "source": [
    "not True"
   ]
  },
  {
   "cell_type": "code",
   "execution_count": 110,
   "id": "a1da1f7f",
   "metadata": {},
   "outputs": [
    {
     "data": {
      "text/plain": [
       "True"
      ]
     },
     "execution_count": 110,
     "metadata": {},
     "output_type": "execute_result"
    }
   ],
   "source": [
    "not False"
   ]
  },
  {
   "cell_type": "code",
   "execution_count": 108,
   "id": "a5177441",
   "metadata": {},
   "outputs": [
    {
     "name": "stdout",
     "output_type": "stream",
     "text": [
      "die is leeg\n"
     ]
    }
   ],
   "source": [
    "if not lege_lijst:\n",
    "    print('die is leeg')"
   ]
  },
  {
   "cell_type": "code",
   "execution_count": 111,
   "id": "812f0b1e",
   "metadata": {},
   "outputs": [
    {
     "data": {
      "text/plain": [
       "22"
      ]
     },
     "execution_count": 111,
     "metadata": {},
     "output_type": "execute_result"
    }
   ],
   "source": [
    "leeftijd"
   ]
  },
  {
   "cell_type": "code",
   "execution_count": 112,
   "id": "4d434ec8",
   "metadata": {},
   "outputs": [
    {
     "name": "stdout",
     "output_type": "stream",
     "text": [
      "bepaalde leeftijd\n"
     ]
    }
   ],
   "source": [
    "if leeftijd >= 18 and leeftijd <= 100:\n",
    "    print('bepaalde leeftijd')"
   ]
  },
  {
   "cell_type": "code",
   "execution_count": 113,
   "id": "c1837d6b",
   "metadata": {},
   "outputs": [],
   "source": [
    "leeftijd = 1000\n",
    "if leeftijd >= 18 and leeftijd <= 100:\n",
    "    print('bepaalde leeftijd')"
   ]
  },
  {
   "cell_type": "code",
   "execution_count": 114,
   "id": "9881a43a",
   "metadata": {},
   "outputs": [
    {
     "name": "stdout",
     "output_type": "stream",
     "text": [
      "bepaalde leeftijd\n"
     ]
    }
   ],
   "source": [
    "if leeftijd >= 18 or leeftijd <= 10:\n",
    "    print('bepaalde leeftijd')"
   ]
  },
  {
   "cell_type": "code",
   "execution_count": 115,
   "id": "fd94eeb8",
   "metadata": {},
   "outputs": [],
   "source": [
    "leeftijd = 15\n",
    "if leeftijd >= 18 or leeftijd <= 10:\n",
    "    print('bepaalde leeftijd')"
   ]
  },
  {
   "cell_type": "markdown",
   "id": "5f8a0ab2",
   "metadata": {},
   "source": [
    "# Loops for/while"
   ]
  },
  {
   "cell_type": "code",
   "execution_count": 123,
   "id": "f4e1acb9",
   "metadata": {},
   "outputs": [
    {
     "name": "stdout",
     "output_type": "stream",
     "text": [
      "0\n",
      "1\n",
      "2\n",
      "3\n",
      "4\n"
     ]
    }
   ],
   "source": [
    "for i in range(5):\n",
    "    print(i)"
   ]
  },
  {
   "cell_type": "code",
   "execution_count": 122,
   "id": "f822c94b",
   "metadata": {},
   "outputs": [
    {
     "data": {
      "text/plain": [
       "15"
      ]
     },
     "execution_count": 122,
     "metadata": {},
     "output_type": "execute_result"
    }
   ],
   "source": [
    "a = 3\n",
    "b = 5\n",
    "\n",
    "y = 0\n",
    "for _ in range(b):\n",
    "    y += a\n",
    "y"
   ]
  },
  {
   "cell_type": "code",
   "execution_count": 124,
   "id": "d3e1934c",
   "metadata": {},
   "outputs": [
    {
     "data": {
      "text/plain": [
       "6"
      ]
     },
     "execution_count": 124,
     "metadata": {},
     "output_type": "execute_result"
    }
   ],
   "source": [
    "x = 3\n",
    "x += 3\n",
    "x"
   ]
  },
  {
   "cell_type": "code",
   "execution_count": 125,
   "id": "c9a98e19",
   "metadata": {},
   "outputs": [
    {
     "data": {
      "text/plain": [
       "6"
      ]
     },
     "execution_count": 125,
     "metadata": {},
     "output_type": "execute_result"
    }
   ],
   "source": [
    "x = 3\n",
    "x = x + 3\n",
    "x"
   ]
  },
  {
   "cell_type": "code",
   "execution_count": 127,
   "id": "2a90409d",
   "metadata": {},
   "outputs": [
    {
     "data": {
      "text/plain": [
       "15"
      ]
     },
     "execution_count": 127,
     "metadata": {},
     "output_type": "execute_result"
    }
   ],
   "source": [
    "x = 3\n",
    "x *= 5\n",
    "x"
   ]
  },
  {
   "cell_type": "code",
   "execution_count": 128,
   "id": "15e52362",
   "metadata": {},
   "outputs": [
    {
     "data": {
      "text/plain": [
       "1"
      ]
     },
     "execution_count": 128,
     "metadata": {},
     "output_type": "execute_result"
    }
   ],
   "source": [
    "x = 10\n",
    "x %= 3\n",
    "x"
   ]
  },
  {
   "cell_type": "code",
   "execution_count": 129,
   "id": "bb92dacd",
   "metadata": {},
   "outputs": [
    {
     "data": {
      "text/plain": [
       "[1, 6, 8, 9, 'c', 'b']"
      ]
     },
     "execution_count": 129,
     "metadata": {},
     "output_type": "execute_result"
    }
   ],
   "source": [
    "lijst"
   ]
  },
  {
   "cell_type": "code",
   "execution_count": 130,
   "id": "f1564767",
   "metadata": {},
   "outputs": [
    {
     "name": "stdout",
     "output_type": "stream",
     "text": [
      "1\n",
      "6\n",
      "8\n",
      "9\n",
      "c\n",
      "b\n"
     ]
    }
   ],
   "source": [
    "for item in lijst:\n",
    "    print(item)"
   ]
  },
  {
   "cell_type": "code",
   "execution_count": 131,
   "id": "ab096b4d",
   "metadata": {},
   "outputs": [
    {
     "name": "stdout",
     "output_type": "stream",
     "text": [
      "3\n",
      "18\n",
      "24\n",
      "27\n",
      "ccc\n",
      "bbb\n"
     ]
    }
   ],
   "source": [
    "for item in lijst:\n",
    "    print(3 * item)"
   ]
  },
  {
   "cell_type": "code",
   "execution_count": 132,
   "id": "43af0fdf",
   "metadata": {},
   "outputs": [
    {
     "data": {
      "text/plain": [
       "(1, 6, 8, 9, 'a', 'b')"
      ]
     },
     "execution_count": 132,
     "metadata": {},
     "output_type": "execute_result"
    }
   ],
   "source": [
    "t"
   ]
  },
  {
   "cell_type": "code",
   "execution_count": 133,
   "id": "da8f5925",
   "metadata": {},
   "outputs": [
    {
     "name": "stdout",
     "output_type": "stream",
     "text": [
      "1\n",
      "6\n",
      "8\n",
      "9\n",
      "a\n",
      "b\n"
     ]
    }
   ],
   "source": [
    "for item in t:\n",
    "    print(item)"
   ]
  },
  {
   "cell_type": "code",
   "execution_count": 134,
   "id": "d6197a89",
   "metadata": {},
   "outputs": [
    {
     "data": {
      "text/plain": [
       "[{'naam': 'Henk', 'leeftijd': 18}, {'naam': 'Freek', 'leeftijd': 30}]"
      ]
     },
     "execution_count": 134,
     "metadata": {},
     "output_type": "execute_result"
    }
   ],
   "source": [
    "personen"
   ]
  },
  {
   "cell_type": "code",
   "execution_count": 135,
   "id": "e36d03b4",
   "metadata": {},
   "outputs": [
    {
     "data": {
      "text/plain": [
       "{'naam': 'Henk', 'leeftijd': 18}"
      ]
     },
     "execution_count": 135,
     "metadata": {},
     "output_type": "execute_result"
    }
   ],
   "source": [
    "personen[0]"
   ]
  },
  {
   "cell_type": "code",
   "execution_count": 136,
   "id": "ce2d7369",
   "metadata": {},
   "outputs": [
    {
     "name": "stdout",
     "output_type": "stream",
     "text": [
      "naam\n",
      "leeftijd\n"
     ]
    }
   ],
   "source": [
    "for sleutel in personen[0]:\n",
    "    print(sleutel)"
   ]
  },
  {
   "cell_type": "code",
   "execution_count": 137,
   "id": "5693b791",
   "metadata": {},
   "outputs": [
    {
     "name": "stdout",
     "output_type": "stream",
     "text": [
      "Henk\n",
      "18\n"
     ]
    }
   ],
   "source": [
    "for waarde in personen[0].values():\n",
    "    print(waarde)"
   ]
  },
  {
   "cell_type": "code",
   "execution_count": 140,
   "id": "a7fb976b",
   "metadata": {},
   "outputs": [
    {
     "data": {
      "text/plain": [
       "(19, 200)"
      ]
     },
     "execution_count": 140,
     "metadata": {},
     "output_type": "execute_result"
    }
   ],
   "source": [
    "a, b = 19, 200\n",
    "a, b"
   ]
  },
  {
   "cell_type": "code",
   "execution_count": 141,
   "id": "28a76ccd",
   "metadata": {},
   "outputs": [
    {
     "data": {
      "text/plain": [
       "(19, 200)"
      ]
     },
     "execution_count": 141,
     "metadata": {},
     "output_type": "execute_result"
    }
   ],
   "source": [
    "a, b = (19, 200)\n",
    "a, b"
   ]
  },
  {
   "cell_type": "code",
   "execution_count": 142,
   "id": "81dfc601",
   "metadata": {},
   "outputs": [
    {
     "name": "stdout",
     "output_type": "stream",
     "text": [
      "3 8 6\n"
     ]
    }
   ],
   "source": [
    "print(3, 8, 6)"
   ]
  },
  {
   "cell_type": "code",
   "execution_count": 143,
   "id": "9ffe0bb0",
   "metadata": {},
   "outputs": [
    {
     "name": "stdout",
     "output_type": "stream",
     "text": [
      "3^8^6\n"
     ]
    }
   ],
   "source": [
    "print(3, 8, 6, sep='^')"
   ]
  },
  {
   "cell_type": "code",
   "execution_count": 138,
   "id": "e5b9469e",
   "metadata": {},
   "outputs": [
    {
     "name": "stdout",
     "output_type": "stream",
     "text": [
      "naam Henk\n",
      "leeftijd 18\n"
     ]
    }
   ],
   "source": [
    "for sleutel, waarde in personen[0].items():\n",
    "    print(sleutel, waarde)"
   ]
  },
  {
   "cell_type": "code",
   "execution_count": 144,
   "id": "148bc147",
   "metadata": {},
   "outputs": [
    {
     "data": {
      "text/plain": [
       "[{'naam': 'Henk', 'leeftijd': 18}, {'naam': 'Freek', 'leeftijd': 30}]"
      ]
     },
     "execution_count": 144,
     "metadata": {},
     "output_type": "execute_result"
    }
   ],
   "source": [
    "personen"
   ]
  },
  {
   "cell_type": "code",
   "execution_count": 145,
   "id": "89395137",
   "metadata": {},
   "outputs": [
    {
     "name": "stdout",
     "output_type": "stream",
     "text": [
      "De sleutel naam heeft de waarde Henk\n",
      "De sleutel leeftijd heeft de waarde 18\n",
      "De sleutel naam heeft de waarde Freek\n",
      "De sleutel leeftijd heeft de waarde 30\n"
     ]
    }
   ],
   "source": [
    "for persoon in personen:\n",
    "    for sleutel, waarde in persoon.items():\n",
    "        print(f\"De sleutel {sleutel} heeft de waarde {waarde}\")"
   ]
  },
  {
   "cell_type": "code",
   "execution_count": 147,
   "id": "5216517b",
   "metadata": {},
   "outputs": [
    {
     "data": {
      "text/plain": [
       "'30 hier iets er tussen 7.6 True'"
      ]
     },
     "execution_count": 147,
     "metadata": {},
     "output_type": "execute_result"
    }
   ],
   "source": [
    "f\"{30} hier iets er tussen {7.6} {True}\""
   ]
  },
  {
   "cell_type": "code",
   "execution_count": 150,
   "id": "5c2329ee",
   "metadata": {},
   "outputs": [
    {
     "name": "stdout",
     "output_type": "stream",
     "text": [
      "Voer een getal in tussen de -10 en 10: 8\n"
     ]
    }
   ],
   "source": [
    "# getal = int(input('Voer een getal in tussen de -10 en 10: '))\n",
    "# if getal < -10 or getal > 10:\n",
    "#     print('Hey dat ligt buiten de gewenste range')"
   ]
  },
  {
   "cell_type": "code",
   "execution_count": 151,
   "id": "b60adeca",
   "metadata": {},
   "outputs": [
    {
     "data": {
      "text/plain": [
       "False"
      ]
     },
     "execution_count": 151,
     "metadata": {},
     "output_type": "execute_result"
    }
   ],
   "source": [
    "bool(None)"
   ]
  },
  {
   "cell_type": "code",
   "execution_count": 155,
   "id": "470b6e7b",
   "metadata": {},
   "outputs": [
    {
     "data": {
      "text/plain": [
       "True"
      ]
     },
     "execution_count": 155,
     "metadata": {},
     "output_type": "execute_result"
    }
   ],
   "source": [
    "3 == 3"
   ]
  },
  {
   "cell_type": "code",
   "execution_count": 157,
   "id": "0c4f511b",
   "metadata": {},
   "outputs": [
    {
     "data": {
      "text/plain": [
       "False"
      ]
     },
     "execution_count": 157,
     "metadata": {},
     "output_type": "execute_result"
    }
   ],
   "source": [
    "a = ['test']\n",
    "\n",
    "a is ['test']"
   ]
  },
  {
   "cell_type": "code",
   "execution_count": 158,
   "id": "99a9b63c",
   "metadata": {},
   "outputs": [
    {
     "data": {
      "text/plain": [
       "True"
      ]
     },
     "execution_count": 158,
     "metadata": {},
     "output_type": "execute_result"
    }
   ],
   "source": [
    "a == ['test']"
   ]
  },
  {
   "cell_type": "code",
   "execution_count": 159,
   "id": "a0520f3f",
   "metadata": {},
   "outputs": [
    {
     "data": {
      "text/plain": [
       "2341094355456"
      ]
     },
     "execution_count": 159,
     "metadata": {},
     "output_type": "execute_result"
    }
   ],
   "source": [
    "id(a)"
   ]
  },
  {
   "cell_type": "code",
   "execution_count": 162,
   "id": "c617876e",
   "metadata": {},
   "outputs": [
    {
     "data": {
      "text/plain": [
       "2341094391616"
      ]
     },
     "execution_count": 162,
     "metadata": {},
     "output_type": "execute_result"
    }
   ],
   "source": [
    "id(['test'])"
   ]
  },
  {
   "cell_type": "code",
   "execution_count": 172,
   "id": "e0c9a861",
   "metadata": {},
   "outputs": [
    {
     "data": {
      "text/plain": [
       "140716467034104"
      ]
     },
     "execution_count": 172,
     "metadata": {},
     "output_type": "execute_result"
    }
   ],
   "source": [
    "id(None)"
   ]
  },
  {
   "cell_type": "code",
   "execution_count": 154,
   "id": "eae3e16e",
   "metadata": {},
   "outputs": [
    {
     "name": "stdout",
     "output_type": "stream",
     "text": [
      "Voer een getal in tussen de -10 en 10: 20\n",
      "Hey dat ligt buiten de gewenste range, probeer opnieuw!\n",
      "Voer een getal in tussen de -10 en 10: 30\n",
      "Hey dat ligt buiten de gewenste range, probeer opnieuw!\n",
      "Voer een getal in tussen de -10 en 10: 10\n",
      "Het gekozen getal is 10\n"
     ]
    }
   ],
   "source": [
    "# getal = None\n",
    "\n",
    "# while getal is None:\n",
    "#     getal = int(input('Voer een getal in tussen de -10 en 10: '))\n",
    "#     if getal < -10 or getal > 10:\n",
    "#         print('Hey dat ligt buiten de gewenste range, probeer opnieuw!')\n",
    "#         getal = None\n",
    "# print(f'Het gekozen getal is {getal}')"
   ]
  },
  {
   "cell_type": "markdown",
   "id": "546f1518",
   "metadata": {},
   "source": [
    "## Opdracht 1:\n",
    "1. Schrijf een loop die alle elementen uit `opdracht_lijst` print.\n",
    "2. Schrijf een loop die een nieuwe lijst vult met de getallen -10 t/m 23.\n",
    "3. Schrijf een loop die een nieuwe lijst vult met de getallen 0 t/m 30 die een veelvoud zijn van 3.\n",
    "    - Hint: Zoek op wat de documentatie zegt over `range()`\n",
    "4. Schrijf een loop die een dictionary maakt met alle letters uit het alfabet als de sleutels, en hun 'waarde' als waarde. De waarde in dit geval is 1 voor a, 2 voor b, etc.\n",
    "    - Hint: Gebruikt de module `string` (deze is al standaard geïnstalleerd). Gebruikt hiervoor het keyword `import`"
   ]
  },
  {
   "cell_type": "code",
   "execution_count": 173,
   "id": "764a9378",
   "metadata": {},
   "outputs": [],
   "source": [
    "opdracht_lijst = [9, 2, 6, 'a', 'z', ['hoi']]"
   ]
  },
  {
   "cell_type": "code",
   "execution_count": 175,
   "id": "819930d9",
   "metadata": {},
   "outputs": [
    {
     "data": {
      "text/plain": [
       "[0, 3, 6, 9, 12, 15, 18, 21, 24, 27, 30]"
      ]
     },
     "execution_count": 175,
     "metadata": {},
     "output_type": "execute_result"
    }
   ],
   "source": [
    "newlist2= []\n",
    "for i in range(0, 31, 3):\n",
    "  newlist2.append(i)\n",
    "newlist2"
   ]
  },
  {
   "cell_type": "code",
   "execution_count": 176,
   "id": "b0041dbc",
   "metadata": {},
   "outputs": [
    {
     "data": {
      "text/plain": [
       "[0, 3, 6, 9, 12, 15, 18, 21, 24, 27, 30]"
      ]
     },
     "execution_count": 176,
     "metadata": {},
     "output_type": "execute_result"
    }
   ],
   "source": [
    "list(range(0, 31, 3))"
   ]
  },
  {
   "cell_type": "code",
   "execution_count": 177,
   "id": "1d9eb805",
   "metadata": {},
   "outputs": [
    {
     "data": {
      "text/plain": [
       "'abcdefghijklmnopqrstuvwxyz'"
      ]
     },
     "execution_count": 177,
     "metadata": {},
     "output_type": "execute_result"
    }
   ],
   "source": [
    "import string\n",
    "\n",
    "string.ascii_lowercase"
   ]
  },
  {
   "cell_type": "code",
   "execution_count": 178,
   "id": "0f3a71f4",
   "metadata": {},
   "outputs": [
    {
     "name": "stdout",
     "output_type": "stream",
     "text": [
      "F\n",
      "r\n",
      "e\n",
      "e\n",
      "k\n"
     ]
    }
   ],
   "source": [
    "for letter in 'Freek':\n",
    "    print(letter)"
   ]
  },
  {
   "cell_type": "markdown",
   "id": "8cce489c",
   "metadata": {},
   "source": [
    "### Oplossing 1.1"
   ]
  },
  {
   "cell_type": "code",
   "execution_count": 181,
   "id": "c562e92a",
   "metadata": {},
   "outputs": [
    {
     "name": "stdout",
     "output_type": "stream",
     "text": [
      "9\n",
      "2\n",
      "6\n",
      "a\n",
      "z\n",
      "['hoi']\n"
     ]
    }
   ],
   "source": [
    "for element in opdracht_lijst:\n",
    "    print(element)"
   ]
  },
  {
   "cell_type": "markdown",
   "id": "888b9f71",
   "metadata": {},
   "source": [
    "### Oplossing 1.2:"
   ]
  },
  {
   "cell_type": "code",
   "execution_count": 183,
   "id": "90357600",
   "metadata": {},
   "outputs": [
    {
     "name": "stdout",
     "output_type": "stream",
     "text": [
      "[-10, -9, -8, -7, -6, -5, -4, -3, -2, -1, 0, 1, 2, 3, 4, 5, 6, 7, 8, 9, 10, 11, 12, 13, 14, 15, 16, 17, 18, 19, 20, 21, 22, 23]\n"
     ]
    }
   ],
   "source": [
    "nieuwe_lijst = []\n",
    "for getal in range(-10, 24):\n",
    "    nieuwe_lijst.append(getal)\n",
    "print(nieuwe_lijst)"
   ]
  },
  {
   "cell_type": "markdown",
   "id": "e3ac700a",
   "metadata": {},
   "source": [
    "### Oplossing 1.3:"
   ]
  },
  {
   "cell_type": "code",
   "execution_count": 186,
   "id": "4888fa01",
   "metadata": {},
   "outputs": [
    {
     "name": "stdout",
     "output_type": "stream",
     "text": [
      "[0, 3, 6, 9, 12, 15, 18, 21, 24, 27, 30]\n",
      "[0, 3, 6, 9, 12, 15, 18, 21, 24, 27, 30]\n",
      "[0, 3, 6, 9, 12, 15, 18, 21, 24, 27, 30]\n"
     ]
    }
   ],
   "source": [
    "veelvouden_van_drie = []\n",
    "for getal in range(0, 31, 3):\n",
    "    veelvouden_van_drie.append(getal)\n",
    "print(veelvouden_van_drie)\n",
    "\n",
    "veelvouden_van_drie_alternatief = []\n",
    "for getal in range(0, 31):\n",
    "    if getal % 3 == 0:\n",
    "        veelvouden_van_drie_alternatief.append(getal)\n",
    "print(veelvouden_van_drie_alternatief)\n",
    "\n",
    "kortste_mogelijkheid = list(range(0, 31, 3))\n",
    "print(kortste_mogelijkheid)"
   ]
  },
  {
   "cell_type": "markdown",
   "id": "7c8a85aa",
   "metadata": {},
   "source": [
    "### Oplossing 1.4:"
   ]
  },
  {
   "cell_type": "code",
   "execution_count": 187,
   "id": "45a7b1f4",
   "metadata": {},
   "outputs": [
    {
     "name": "stdout",
     "output_type": "stream",
     "text": [
      "{'a': 1, 'b': 2, 'c': 3, 'd': 4, 'e': 5, 'f': 6, 'g': 7, 'h': 8, 'i': 9, 'j': 10, 'k': 11, 'l': 12, 'm': 13, 'n': 14, 'o': 15, 'p': 16, 'q': 17, 'r': 18, 's': 19, 't': 20, 'u': 21, 'v': 22, 'w': 23, 'x': 24, 'y': 25, 'z': 26}\n",
      "{'a': 1, 'b': 2, 'c': 3, 'd': 4, 'e': 5, 'f': 6, 'g': 7, 'h': 8, 'i': 9, 'j': 10, 'k': 11, 'l': 12, 'm': 13, 'n': 14, 'o': 15, 'p': 16, 'q': 17, 'r': 18, 's': 19, 't': 20, 'u': 21, 'v': 22, 'w': 23, 'x': 24, 'y': 25, 'z': 26}\n"
     ]
    }
   ],
   "source": [
    "import string\n",
    "\n",
    "letter_waarden = {}\n",
    "teller = 1\n",
    "for letter in string.ascii_lowercase:\n",
    "    letter_waarden[letter] = teller\n",
    "    teller += 1\n",
    "print(letter_waarden)\n",
    "\n",
    "letter_waarden_alternatief = {}\n",
    "for waarde, letter in enumerate(string.ascii_lowercase, 1):\n",
    "    letter_waarden_alternatief[letter] = waarde\n",
    "print(letter_waarden_alternatief)"
   ]
  },
  {
   "cell_type": "code",
   "execution_count": null,
   "id": "5962c92d",
   "metadata": {},
   "outputs": [],
   "source": []
  },
  {
   "cell_type": "markdown",
   "id": "e21babf8",
   "metadata": {},
   "source": [
    "### Korte uitleg `enumerate()`"
   ]
  },
  {
   "cell_type": "code",
   "execution_count": 188,
   "id": "77856755",
   "metadata": {},
   "outputs": [
    {
     "data": {
      "text/plain": [
       "[(0, 'F'), (1, 'r'), (2, 'e'), (3, 'e'), (4, 'k')]"
      ]
     },
     "execution_count": 188,
     "metadata": {},
     "output_type": "execute_result"
    }
   ],
   "source": [
    "list(enumerate('Freek'))"
   ]
  },
  {
   "cell_type": "code",
   "execution_count": 189,
   "id": "33b31147",
   "metadata": {},
   "outputs": [
    {
     "data": {
      "text/plain": [
       "[(10, 'F'), (11, 'r'), (12, 'e'), (13, 'e'), (14, 'k')]"
      ]
     },
     "execution_count": 189,
     "metadata": {},
     "output_type": "execute_result"
    }
   ],
   "source": [
    "list(enumerate('Freek', 10))"
   ]
  },
  {
   "cell_type": "code",
   "execution_count": null,
   "id": "6e80716c",
   "metadata": {},
   "outputs": [],
   "source": []
  },
  {
   "cell_type": "code",
   "execution_count": 192,
   "id": "6b8efc38",
   "metadata": {},
   "outputs": [
    {
     "name": "stdout",
     "output_type": "stream",
     "text": [
      "9\n",
      "2\n",
      "6\n",
      "a\n",
      "z\n",
      "['hoi']\n",
      "9\n",
      "2\n",
      "6\n",
      "a\n",
      "z\n",
      "['hoi']\n"
     ]
    }
   ],
   "source": [
    "# In andere talen ongeveer zo\n",
    "for i in range(len(opdracht_lijst)):\n",
    "    print(opdracht_lijst[i])\n",
    "\n",
    "# In Python\n",
    "for item in opdracht_lijst:\n",
    "    print(item)"
   ]
  },
  {
   "cell_type": "markdown",
   "id": "6de6ac8c",
   "metadata": {},
   "source": [
    "# Functies"
   ]
  },
  {
   "cell_type": "code",
   "execution_count": 193,
   "id": "f13b3b71",
   "metadata": {},
   "outputs": [],
   "source": [
    "def functienaam():\n",
    "    print('hoi')"
   ]
  },
  {
   "cell_type": "code",
   "execution_count": 194,
   "id": "bd0a0693",
   "metadata": {},
   "outputs": [
    {
     "name": "stdout",
     "output_type": "stream",
     "text": [
      "hoi\n"
     ]
    }
   ],
   "source": [
    "functienaam()"
   ]
  },
  {
   "cell_type": "code",
   "execution_count": 195,
   "id": "2d9e141d",
   "metadata": {},
   "outputs": [
    {
     "data": {
      "text/plain": [
       "<function __main__.functienaam()>"
      ]
     },
     "execution_count": 195,
     "metadata": {},
     "output_type": "execute_result"
    }
   ],
   "source": [
    "functienaam"
   ]
  },
  {
   "cell_type": "code",
   "execution_count": 196,
   "id": "9a43b10d",
   "metadata": {},
   "outputs": [],
   "source": [
    "def optellen(a, b):\n",
    "    print(a + b)"
   ]
  },
  {
   "cell_type": "code",
   "execution_count": 197,
   "id": "bd224f1a",
   "metadata": {},
   "outputs": [
    {
     "name": "stdout",
     "output_type": "stream",
     "text": [
      "8\n"
     ]
    }
   ],
   "source": [
    "optellen(3, 5)"
   ]
  },
  {
   "cell_type": "code",
   "execution_count": 198,
   "id": "b0db00cc",
   "metadata": {},
   "outputs": [],
   "source": [
    "def optellen(a, b):\n",
    "    return a + b"
   ]
  },
  {
   "cell_type": "code",
   "execution_count": 199,
   "id": "55a0990f",
   "metadata": {},
   "outputs": [
    {
     "data": {
      "text/plain": [
       "8"
      ]
     },
     "execution_count": 199,
     "metadata": {},
     "output_type": "execute_result"
    }
   ],
   "source": [
    "optellen(3, 5)"
   ]
  },
  {
   "cell_type": "code",
   "execution_count": 200,
   "id": "1bb190f0",
   "metadata": {},
   "outputs": [],
   "source": [
    "def optellen_print(a, b):\n",
    "    print(a + b)"
   ]
  },
  {
   "cell_type": "code",
   "execution_count": 201,
   "id": "293e34fc",
   "metadata": {},
   "outputs": [
    {
     "name": "stdout",
     "output_type": "stream",
     "text": [
      "8\n"
     ]
    }
   ],
   "source": [
    "x = optellen_print(3, 5)"
   ]
  },
  {
   "cell_type": "code",
   "execution_count": 203,
   "id": "3e9b3df4",
   "metadata": {},
   "outputs": [
    {
     "name": "stdout",
     "output_type": "stream",
     "text": [
      "None\n"
     ]
    }
   ],
   "source": [
    "print(x)"
   ]
  },
  {
   "cell_type": "code",
   "execution_count": 204,
   "id": "e2f99f56",
   "metadata": {},
   "outputs": [],
   "source": [
    "x = optellen(3, 5)"
   ]
  },
  {
   "cell_type": "code",
   "execution_count": 205,
   "id": "0f414071",
   "metadata": {},
   "outputs": [
    {
     "data": {
      "text/plain": [
       "8"
      ]
     },
     "execution_count": 205,
     "metadata": {},
     "output_type": "execute_result"
    }
   ],
   "source": [
    "x"
   ]
  },
  {
   "cell_type": "code",
   "execution_count": 206,
   "id": "8150bc25",
   "metadata": {},
   "outputs": [],
   "source": [
    "def delen_met_rest(a, b):\n",
    "    return a // b, a % b"
   ]
  },
  {
   "cell_type": "code",
   "execution_count": 207,
   "id": "18e4d4b6",
   "metadata": {},
   "outputs": [
    {
     "data": {
      "text/plain": [
       "(3, 1)"
      ]
     },
     "execution_count": 207,
     "metadata": {},
     "output_type": "execute_result"
    }
   ],
   "source": [
    "delen_met_rest(10, 3)"
   ]
  },
  {
   "cell_type": "code",
   "execution_count": 208,
   "id": "cc9fec78",
   "metadata": {},
   "outputs": [
    {
     "name": "stdout",
     "output_type": "stream",
     "text": [
      "3\n",
      "1\n"
     ]
    }
   ],
   "source": [
    "aantal, rest = delen_met_rest(10, 3)\n",
    "print(aantal)\n",
    "print(rest)"
   ]
  },
  {
   "cell_type": "markdown",
   "id": "06c527fb",
   "metadata": {},
   "source": [
    "## Naamgeving:\n",
    "- Snake-case: kleine_letters_met_underscores  -> Variabelen, functies, methoden\n",
    "- Pascal-case: GroteLetterGeenScheiding -> Klassen\n",
    "- Camel-case: beginMetKleinDaarnaGroot -> Java/JavaScript"
   ]
  },
  {
   "cell_type": "code",
   "execution_count": 209,
   "id": "f6993e4e",
   "metadata": {},
   "outputs": [
    {
     "data": {
      "text/plain": [
       "[1, 6, 8, 9, 'c', 'b']"
      ]
     },
     "execution_count": 209,
     "metadata": {},
     "output_type": "execute_result"
    }
   ],
   "source": [
    "lijst"
   ]
  },
  {
   "cell_type": "code",
   "execution_count": 210,
   "id": "10104e14",
   "metadata": {},
   "outputs": [
    {
     "data": {
      "text/plain": [
       "['b', 'c', 9, 8, 6, 1]"
      ]
     },
     "execution_count": 210,
     "metadata": {},
     "output_type": "execute_result"
    }
   ],
   "source": [
    "lijst[::-1]"
   ]
  },
  {
   "cell_type": "code",
   "execution_count": 214,
   "id": "4b64935c",
   "metadata": {},
   "outputs": [
    {
     "data": {
      "text/plain": [
       "['b', 'c', 9, 8, 6, 1]"
      ]
     },
     "execution_count": 214,
     "metadata": {},
     "output_type": "execute_result"
    }
   ],
   "source": [
    "list(reversed(lijst))"
   ]
  },
  {
   "cell_type": "code",
   "execution_count": 215,
   "id": "e8840235",
   "metadata": {},
   "outputs": [],
   "source": [
    "def draai_lijst_om(lijst):\n",
    "    nieuwe_lijst = []\n",
    "    for letter in reversed(lijst):\n",
    "        nieuwe_lijst.append(letter)\n",
    "    return nieuwe_lijst"
   ]
  },
  {
   "cell_type": "code",
   "execution_count": 216,
   "id": "0fef6c73",
   "metadata": {},
   "outputs": [
    {
     "data": {
      "text/plain": [
       "[1, 9, 'b']"
      ]
     },
     "execution_count": 216,
     "metadata": {},
     "output_type": "execute_result"
    }
   ],
   "source": [
    "kopie_lijst = lijst.copy()\n",
    "\n",
    "kopie_lijst.pop(1)\n",
    "kopie_lijst = draai_lijst_om(kopie_lijst)\n",
    "kopie_lijst.pop(1)\n",
    "kopie_lijst = draai_lijst_om(kopie_lijst)\n",
    "kopie_lijst.pop(1)\n",
    "\n",
    "kopie_lijst"
   ]
  },
  {
   "cell_type": "code",
   "execution_count": 217,
   "id": "b72da286",
   "metadata": {},
   "outputs": [
    {
     "name": "stdout",
     "output_type": "stream",
     "text": [
      "hoi\n"
     ]
    }
   ],
   "source": [
    "def func1():\n",
    "    print('hoi')\n",
    "    \n",
    "def func2():\n",
    "    func1()\n",
    "    \n",
    "func2()"
   ]
  },
  {
   "cell_type": "markdown",
   "id": "588fc531",
   "metadata": {},
   "source": [
    "## Opdracht 2:\n",
    "1. Schrijf een functie die een lijst getallen accepteerd en een nieuwe lijst teruggeeft met alleen de oneven getallen uit de originele lijst.\n",
    "2. Schrijf een functie die een lijst getallen accepteerd en een nieuwe lijst teruggeeft met de kwadraten van de getallen groter dan 5 en kleiner of gelijk aan 15."
   ]
  },
  {
   "cell_type": "code",
   "execution_count": 219,
   "id": "825db0d8",
   "metadata": {},
   "outputs": [],
   "source": [
    "voorbeeld_lijst1 = [4, 16, 7, 0, 12, 3, 19, 8, 8, 8, 5, 15]\n",
    "voorbeeld_lijst2 = [19, 5, 6, 17, 7, 17, 7, 1, 16, 17, 2, 1]\n",
    "voorbeeld_lijst3 = [3, 6, 13, 13, 13, 1, 18, 16, 14, 13, 19, 9]"
   ]
  },
  {
   "cell_type": "markdown",
   "id": "b140bd24",
   "metadata": {},
   "source": [
    "### Oplossing 2.1:"
   ]
  },
  {
   "cell_type": "code",
   "execution_count": 220,
   "id": "8b8a04c5",
   "metadata": {},
   "outputs": [],
   "source": [
    "def filter_op_oneven(lijst):\n",
    "    oneven = []\n",
    "    for getal in lijst:\n",
    "        if getal % 2:\n",
    "            oneven.append(getal)\n",
    "    return oneven"
   ]
  },
  {
   "cell_type": "code",
   "execution_count": 221,
   "id": "989e99fd",
   "metadata": {},
   "outputs": [
    {
     "name": "stdout",
     "output_type": "stream",
     "text": [
      "[7, 3, 19, 5, 15]\n",
      "[19, 5, 17, 7, 17, 7, 1, 17, 1]\n",
      "[3, 13, 13, 13, 1, 13, 19, 9]\n"
     ]
    }
   ],
   "source": [
    "for test_lijst in (voorbeeld_lijst1, voorbeeld_lijst2, voorbeeld_lijst3):\n",
    "    print(filter_op_oneven(test_lijst))"
   ]
  },
  {
   "cell_type": "code",
   "execution_count": 222,
   "id": "0358b853",
   "metadata": {},
   "outputs": [
    {
     "data": {
      "text/plain": [
       "1"
      ]
     },
     "execution_count": 222,
     "metadata": {},
     "output_type": "execute_result"
    }
   ],
   "source": [
    "5 % 2"
   ]
  },
  {
   "cell_type": "code",
   "execution_count": 223,
   "id": "0db8fdce",
   "metadata": {},
   "outputs": [
    {
     "data": {
      "text/plain": [
       "True"
      ]
     },
     "execution_count": 223,
     "metadata": {},
     "output_type": "execute_result"
    }
   ],
   "source": [
    "bool(1)"
   ]
  },
  {
   "cell_type": "markdown",
   "id": "2a635ae9",
   "metadata": {},
   "source": [
    "### Oplossing 2.2"
   ]
  },
  {
   "cell_type": "code",
   "execution_count": 224,
   "id": "eae75300",
   "metadata": {},
   "outputs": [],
   "source": [
    "def kwadraten_met_filter(lijst):\n",
    "    kwadraten = []\n",
    "    for getal in lijst:\n",
    "        if 5 < getal <= 15:\n",
    "            kwadraten.append(getal ** 2)\n",
    "    return kwadraten"
   ]
  },
  {
   "cell_type": "code",
   "execution_count": 225,
   "id": "fbaa7ab2",
   "metadata": {},
   "outputs": [
    {
     "data": {
      "text/plain": [
       "True"
      ]
     },
     "execution_count": 225,
     "metadata": {},
     "output_type": "execute_result"
    }
   ],
   "source": [
    "12 > 5 and 12 <= 15"
   ]
  },
  {
   "cell_type": "code",
   "execution_count": 226,
   "id": "f6081b90",
   "metadata": {},
   "outputs": [
    {
     "data": {
      "text/plain": [
       "True"
      ]
     },
     "execution_count": 226,
     "metadata": {},
     "output_type": "execute_result"
    }
   ],
   "source": [
    "5 < 12 <= 15"
   ]
  },
  {
   "cell_type": "code",
   "execution_count": 227,
   "id": "99223f14",
   "metadata": {},
   "outputs": [
    {
     "data": {
      "text/plain": [
       "True"
      ]
     },
     "execution_count": 227,
     "metadata": {},
     "output_type": "execute_result"
    }
   ],
   "source": [
    "12 in range(6, 16)"
   ]
  },
  {
   "cell_type": "code",
   "execution_count": 228,
   "id": "5f7b9036",
   "metadata": {},
   "outputs": [
    {
     "data": {
      "text/plain": [
       "True"
      ]
     },
     "execution_count": 228,
     "metadata": {},
     "output_type": "execute_result"
    }
   ],
   "source": [
    "'test' in 'dit is een test string'"
   ]
  },
  {
   "cell_type": "code",
   "execution_count": 229,
   "id": "7ff7a98c",
   "metadata": {},
   "outputs": [
    {
     "data": {
      "text/plain": [
       "False"
      ]
     },
     "execution_count": 229,
     "metadata": {},
     "output_type": "execute_result"
    }
   ],
   "source": [
    "[4, 5, 6] in list(range(10))"
   ]
  },
  {
   "cell_type": "code",
   "execution_count": 230,
   "id": "01dc15cc",
   "metadata": {},
   "outputs": [
    {
     "data": {
      "text/plain": [
       "True"
      ]
     },
     "execution_count": 230,
     "metadata": {},
     "output_type": "execute_result"
    }
   ],
   "source": [
    "5 in range(10)"
   ]
  },
  {
   "cell_type": "markdown",
   "id": "79d3d72d",
   "metadata": {},
   "source": [
    "# Bestanden lezen en schrijven"
   ]
  },
  {
   "cell_type": "code",
   "execution_count": 231,
   "id": "f27a10be",
   "metadata": {},
   "outputs": [],
   "source": [
    "bestand = open('tekstbestand.txt')"
   ]
  },
  {
   "cell_type": "code",
   "execution_count": 232,
   "id": "21285258",
   "metadata": {},
   "outputs": [
    {
     "data": {
      "text/plain": [
       "'dit is wat tekst'"
      ]
     },
     "execution_count": 232,
     "metadata": {},
     "output_type": "execute_result"
    }
   ],
   "source": [
    "bestand.read()"
   ]
  },
  {
   "cell_type": "code",
   "execution_count": 233,
   "id": "a6f039b5",
   "metadata": {},
   "outputs": [
    {
     "data": {
      "text/plain": [
       "''"
      ]
     },
     "execution_count": 233,
     "metadata": {},
     "output_type": "execute_result"
    }
   ],
   "source": [
    "bestand.read()"
   ]
  },
  {
   "cell_type": "code",
   "execution_count": 234,
   "id": "e851ed34",
   "metadata": {},
   "outputs": [],
   "source": [
    "bestand.close()"
   ]
  },
  {
   "cell_type": "code",
   "execution_count": 235,
   "id": "27191b28",
   "metadata": {},
   "outputs": [
    {
     "name": "stdout",
     "output_type": "stream",
     "text": [
      "dit is wat tekst\n"
     ]
    }
   ],
   "source": [
    "with open('tekstbestand.txt') as bestand:\n",
    "    print(bestand.read())"
   ]
  },
  {
   "cell_type": "code",
   "execution_count": 236,
   "id": "9a3178df",
   "metadata": {},
   "outputs": [
    {
     "ename": "ValueError",
     "evalue": "I/O operation on closed file.",
     "output_type": "error",
     "traceback": [
      "\u001b[1;31m---------------------------------------------------------------------------\u001b[0m",
      "\u001b[1;31mValueError\u001b[0m                                Traceback (most recent call last)",
      "\u001b[1;32m~\\AppData\\Local\\Temp/ipykernel_16672/570640981.py\u001b[0m in \u001b[0;36m<module>\u001b[1;34m\u001b[0m\n\u001b[1;32m----> 1\u001b[1;33m \u001b[0mbestand\u001b[0m\u001b[1;33m.\u001b[0m\u001b[0mread\u001b[0m\u001b[1;33m(\u001b[0m\u001b[1;33m)\u001b[0m\u001b[1;33m\u001b[0m\u001b[1;33m\u001b[0m\u001b[0m\n\u001b[0m",
      "\u001b[1;31mValueError\u001b[0m: I/O operation on closed file."
     ]
    }
   ],
   "source": [
    "# bestand.read()\n",
    "\n",
    "# ValueError: I/O operation on closed file."
   ]
  },
  {
   "cell_type": "code",
   "execution_count": 240,
   "id": "28191e54",
   "metadata": {},
   "outputs": [],
   "source": [
    "with open('tekstbestand.txt') as bestand:\n",
    "    data = bestand.read()"
   ]
  },
  {
   "cell_type": "code",
   "execution_count": 241,
   "id": "e0916b45",
   "metadata": {},
   "outputs": [
    {
     "data": {
      "text/plain": [
       "'dit is wat tekst\\ndit is nog een regel\\nen een derde regel'"
      ]
     },
     "execution_count": 241,
     "metadata": {},
     "output_type": "execute_result"
    }
   ],
   "source": [
    "data"
   ]
  },
  {
   "cell_type": "code",
   "execution_count": 242,
   "id": "b6479d8f",
   "metadata": {},
   "outputs": [
    {
     "data": {
      "text/plain": [
       "'i'"
      ]
     },
     "execution_count": 242,
     "metadata": {},
     "output_type": "execute_result"
    }
   ],
   "source": [
    "data[4]"
   ]
  },
  {
   "cell_type": "code",
   "execution_count": 243,
   "id": "a1dd3f7c",
   "metadata": {},
   "outputs": [
    {
     "name": "stdout",
     "output_type": "stream",
     "text": [
      "dit is wat tekst\n",
      "dit is nog een regel\n",
      "en een derde regel\n"
     ]
    }
   ],
   "source": [
    "print(data)"
   ]
  },
  {
   "cell_type": "code",
   "execution_count": 244,
   "id": "45d62b9f",
   "metadata": {},
   "outputs": [
    {
     "name": "stdout",
     "output_type": "stream",
     "text": [
      "eerste regel\n",
      "tweede regel\n"
     ]
    }
   ],
   "source": [
    "print('eerste regel\\ntweede regel')"
   ]
  },
  {
   "cell_type": "code",
   "execution_count": 245,
   "id": "26355202",
   "metadata": {},
   "outputs": [
    {
     "name": "stdout",
     "output_type": "stream",
     "text": [
      "dit is wat tekst\n",
      "\n"
     ]
    }
   ],
   "source": [
    "with open('tekstbestand.txt') as bestand:\n",
    "    print(bestand.readline())"
   ]
  },
  {
   "cell_type": "code",
   "execution_count": 246,
   "id": "b8046191",
   "metadata": {},
   "outputs": [
    {
     "name": "stdout",
     "output_type": "stream",
     "text": [
      "'dit is wat tekst\\n'\n"
     ]
    }
   ],
   "source": [
    "with open('tekstbestand.txt') as bestand:\n",
    "    print(repr(bestand.readline()))"
   ]
  },
  {
   "cell_type": "code",
   "execution_count": 247,
   "id": "dc8ee181",
   "metadata": {},
   "outputs": [
    {
     "name": "stdout",
     "output_type": "stream",
     "text": [
      "dit is wat tekst\n",
      "\n",
      "dit is nog een regel\n",
      "\n",
      "en een derde regel\n",
      "\n"
     ]
    }
   ],
   "source": [
    "with open('tekstbestand.txt') as bestand:\n",
    "    print(bestand.readline())\n",
    "    print(bestand.readline())\n",
    "    print(bestand.readline())\n",
    "    print(bestand.readline())"
   ]
  },
  {
   "cell_type": "code",
   "execution_count": 249,
   "id": "0d7b6330",
   "metadata": {},
   "outputs": [
    {
     "name": "stdout",
     "output_type": "stream",
     "text": [
      "['dit is wat tekst\\n', 'dit is nog een regel\\n', 'en een derde regel']\n"
     ]
    }
   ],
   "source": [
    "with open('tekstbestand.txt') as bestand:\n",
    "    print(bestand.readlines())"
   ]
  },
  {
   "cell_type": "code",
   "execution_count": 250,
   "id": "48ceb048",
   "metadata": {},
   "outputs": [
    {
     "name": "stdout",
     "output_type": "stream",
     "text": [
      "dit is wat tekst\n",
      "\n",
      "dit is nog een regel\n",
      "\n",
      "en een derde regel\n"
     ]
    }
   ],
   "source": [
    "with open('tekstbestand.txt') as bestand:\n",
    "    for regel in bestand:\n",
    "        print(regel)"
   ]
  },
  {
   "cell_type": "code",
   "execution_count": 251,
   "id": "51745531",
   "metadata": {},
   "outputs": [
    {
     "name": "stdout",
     "output_type": "stream",
     "text": [
      "dit is wat tekst\n",
      "\n",
      "dit is nog een regel\n",
      "\n",
      "en een derde regel\n"
     ]
    }
   ],
   "source": [
    "with open('tekstbestand.txt', 'r') as bestand:\n",
    "    for regel in bestand:\n",
    "        print(regel)"
   ]
  },
  {
   "cell_type": "code",
   "execution_count": 254,
   "id": "cccd506c",
   "metadata": {},
   "outputs": [],
   "source": [
    "with open('tekstbestand_2.txt', 'w') as bestand:\n",
    "    bestand.write('Hier nu wat tekst vanuit Python')"
   ]
  },
  {
   "cell_type": "code",
   "execution_count": 255,
   "id": "927d5dba",
   "metadata": {},
   "outputs": [],
   "source": [
    "with open('tekstbestand_2.txt', 'w') as bestand:\n",
    "    bestand.write('Een tweede regel')"
   ]
  },
  {
   "cell_type": "code",
   "execution_count": 256,
   "id": "d234c994",
   "metadata": {},
   "outputs": [],
   "source": [
    "with open('tekstbestand_2.txt', 'w') as bestand:\n",
    "    bestand.write('Hier nu wat tekst vanuit Python')\n",
    "    bestand.write('Een tweede regel')"
   ]
  },
  {
   "cell_type": "code",
   "execution_count": 257,
   "id": "a92b41c3",
   "metadata": {},
   "outputs": [],
   "source": [
    "with open('tekstbestand_2.txt', 'w') as bestand:\n",
    "    bestand.write('Hier nu wat tekst vanuit Python\\n')\n",
    "    bestand.write('Een tweede regel\\n')"
   ]
  },
  {
   "cell_type": "code",
   "execution_count": 258,
   "id": "119218bf",
   "metadata": {},
   "outputs": [],
   "source": [
    "with open('tekstbestand_2.txt', 'a') as bestand:\n",
    "    bestand.write('Hier een derde regel\\n')"
   ]
  },
  {
   "cell_type": "code",
   "execution_count": 262,
   "id": "aa92201a",
   "metadata": {},
   "outputs": [],
   "source": [
    "lijst = ['hoi', 'hier is wat tekst', 'en nog wat meer']\n",
    "with open('tekstbestand_2.txt', 'w') as bestand:\n",
    "    bestand.writelines(lijst)"
   ]
  },
  {
   "cell_type": "code",
   "execution_count": 263,
   "id": "317fc67e",
   "metadata": {},
   "outputs": [],
   "source": [
    "lijst = ['hoi\\n', 'hier is wat tekst\\n', 'en nog wat meer\\n']\n",
    "with open('tekstbestand_2.txt', 'w') as bestand:\n",
    "    bestand.writelines(lijst)"
   ]
  },
  {
   "cell_type": "markdown",
   "id": "a3553ccd",
   "metadata": {},
   "source": [
    "## Opdracht 3:"
   ]
  },
  {
   "cell_type": "markdown",
   "id": "b6da8709",
   "metadata": {},
   "source": [
    "1. Lees het bestand `getallen.txt` in als een lijst van gehele getallen.\n",
    "2. Gebruik de ingebouwde functie `sum()` om het totaal te tonen.\n",
    "3. Schrijf zelf een functie genaamd `bestand_berekening()` dat een bestandsnaam accepteert en het product van alle getallen uit dat bestand teruggeeft als resultaat. (Het product van 1 2 en 3 is bijvoorbeel 1\\*2\\*3 = 6.) Test deze functie op `getallen.txt`."
   ]
  },
  {
   "cell_type": "markdown",
   "id": "30328e72",
   "metadata": {},
   "source": [
    "### Oplossing 3.1:"
   ]
  },
  {
   "cell_type": "code",
   "execution_count": 264,
   "id": "9aa2dde0",
   "metadata": {},
   "outputs": [
    {
     "name": "stdout",
     "output_type": "stream",
     "text": [
      "[13, 69, 20, 82, 24, 79, 28, 2, 73, 89, 39, 19, 33, 24, 54, 14, 33, 59, 64, 22, 94, 11, 70, 69, 40, 27, 87, 33, 12, 7, 69, 14, 91, 19, 8, 64, 69, 55, 96, 70, 77, 8, 26, 79, 77, 96, 65, 7, 23, 39, 16, 76, 8, 24, 59, 14, 92, 72, 6, 72, 48, 79, 82, 38, 53, 94, 17, 22, 83, 66, 80, 55, 70, 48, 92, 29, 38, 0, 17, 67, 63, 64, 72, 70, 91, 83, 57, 9, 58, 7, 98, 98, 58, 94, 33, 86, 54, 30, 86, 61, 19, 46, 8, 73, 66, 35, 63, 15, 95, 62, 68, 10, 64, 87, 71, 14, 8, 0, 74, 58, 91, 11, 11]\n"
     ]
    }
   ],
   "source": [
    "getallen = []\n",
    "with open('getallen.txt', 'r') as bestand:\n",
    "    for regel in bestand:\n",
    "        getallen.append(int(regel))\n",
    "print(getallen)"
   ]
  },
  {
   "cell_type": "code",
   "execution_count": 266,
   "id": "03f62f74",
   "metadata": {},
   "outputs": [
    {
     "data": {
      "text/plain": [
       "[1, 49, 4, 81]"
      ]
     },
     "execution_count": 266,
     "metadata": {},
     "output_type": "execute_result"
    }
   ],
   "source": [
    "lijst = [1, 7, 2, 9]\n",
    "kwadraten = [x ** 2 for x in lijst]\n",
    "kwadraten"
   ]
  },
  {
   "cell_type": "code",
   "execution_count": 267,
   "id": "9902ebc5",
   "metadata": {},
   "outputs": [
    {
     "data": {
      "text/plain": [
       "[1, 49, 4, 81]"
      ]
     },
     "execution_count": 267,
     "metadata": {},
     "output_type": "execute_result"
    }
   ],
   "source": [
    "kwadraten = []\n",
    "for x in lijst:\n",
    "    kwadraten.append(x ** 2)\n",
    "kwadraten"
   ]
  },
  {
   "cell_type": "code",
   "execution_count": 268,
   "id": "f38f4f3a",
   "metadata": {},
   "outputs": [],
   "source": [
    "with open('getallen.txt', 'r') as bestand:\n",
    "    data = bestand.readlines()"
   ]
  },
  {
   "cell_type": "code",
   "execution_count": 269,
   "id": "37d9fc97",
   "metadata": {},
   "outputs": [
    {
     "data": {
      "text/plain": [
       "['13\\n',\n",
       " '69\\n',\n",
       " '20\\n',\n",
       " '82\\n',\n",
       " '24\\n',\n",
       " '79\\n',\n",
       " '28\\n',\n",
       " '2\\n',\n",
       " '73\\n',\n",
       " '89\\n',\n",
       " '39\\n',\n",
       " '19\\n',\n",
       " '33\\n',\n",
       " '24\\n',\n",
       " '54\\n',\n",
       " '14\\n',\n",
       " '33\\n',\n",
       " '59\\n',\n",
       " '64\\n',\n",
       " '22\\n',\n",
       " '94\\n',\n",
       " '11\\n',\n",
       " '70\\n',\n",
       " '69\\n',\n",
       " '40\\n',\n",
       " '27\\n',\n",
       " '87\\n',\n",
       " '33\\n',\n",
       " '12\\n',\n",
       " '7\\n',\n",
       " '69\\n',\n",
       " '14\\n',\n",
       " '91\\n',\n",
       " '19\\n',\n",
       " '8\\n',\n",
       " '64\\n',\n",
       " '69\\n',\n",
       " '55\\n',\n",
       " '96\\n',\n",
       " '70\\n',\n",
       " '77\\n',\n",
       " '8\\n',\n",
       " '26\\n',\n",
       " '79\\n',\n",
       " '77\\n',\n",
       " '96\\n',\n",
       " '65\\n',\n",
       " '7\\n',\n",
       " '23\\n',\n",
       " '39\\n',\n",
       " '16\\n',\n",
       " '76\\n',\n",
       " '8\\n',\n",
       " '24\\n',\n",
       " '59\\n',\n",
       " '14\\n',\n",
       " '92\\n',\n",
       " '72\\n',\n",
       " '6\\n',\n",
       " '72\\n',\n",
       " '48\\n',\n",
       " '79\\n',\n",
       " '82\\n',\n",
       " '38\\n',\n",
       " '53\\n',\n",
       " '94\\n',\n",
       " '17\\n',\n",
       " '22\\n',\n",
       " '83\\n',\n",
       " '66\\n',\n",
       " '80\\n',\n",
       " '55\\n',\n",
       " '70\\n',\n",
       " '48\\n',\n",
       " '92\\n',\n",
       " '29\\n',\n",
       " '38\\n',\n",
       " '0\\n',\n",
       " '17\\n',\n",
       " '67\\n',\n",
       " '63\\n',\n",
       " '64\\n',\n",
       " '72\\n',\n",
       " '70\\n',\n",
       " '91\\n',\n",
       " '83\\n',\n",
       " '57\\n',\n",
       " '9\\n',\n",
       " '58\\n',\n",
       " '7\\n',\n",
       " '98\\n',\n",
       " '98\\n',\n",
       " '58\\n',\n",
       " '94\\n',\n",
       " '33\\n',\n",
       " '86\\n',\n",
       " '54\\n',\n",
       " '30\\n',\n",
       " '86\\n',\n",
       " '61\\n',\n",
       " '19\\n',\n",
       " '46\\n',\n",
       " '8\\n',\n",
       " '73\\n',\n",
       " '66\\n',\n",
       " '35\\n',\n",
       " '63\\n',\n",
       " '15\\n',\n",
       " '95\\n',\n",
       " '62\\n',\n",
       " '68\\n',\n",
       " '10\\n',\n",
       " '64\\n',\n",
       " '87\\n',\n",
       " '71\\n',\n",
       " '14\\n',\n",
       " '8\\n',\n",
       " '0\\n',\n",
       " '74\\n',\n",
       " '58\\n',\n",
       " '91\\n',\n",
       " '11\\n',\n",
       " '11\\n']"
      ]
     },
     "execution_count": 269,
     "metadata": {},
     "output_type": "execute_result"
    }
   ],
   "source": [
    "data"
   ]
  },
  {
   "cell_type": "code",
   "execution_count": 270,
   "id": "aea11c3b",
   "metadata": {},
   "outputs": [
    {
     "data": {
      "text/plain": [
       "['13',\n",
       " '69',\n",
       " '20',\n",
       " '82',\n",
       " '24',\n",
       " '79',\n",
       " '28',\n",
       " '2',\n",
       " '73',\n",
       " '89',\n",
       " '39',\n",
       " '19',\n",
       " '33',\n",
       " '24',\n",
       " '54',\n",
       " '14',\n",
       " '33',\n",
       " '59',\n",
       " '64',\n",
       " '22',\n",
       " '94',\n",
       " '11',\n",
       " '70',\n",
       " '69',\n",
       " '40',\n",
       " '27',\n",
       " '87',\n",
       " '33',\n",
       " '12',\n",
       " '7',\n",
       " '69',\n",
       " '14',\n",
       " '91',\n",
       " '19',\n",
       " '8',\n",
       " '64',\n",
       " '69',\n",
       " '55',\n",
       " '96',\n",
       " '70',\n",
       " '77',\n",
       " '8',\n",
       " '26',\n",
       " '79',\n",
       " '77',\n",
       " '96',\n",
       " '65',\n",
       " '7',\n",
       " '23',\n",
       " '39',\n",
       " '16',\n",
       " '76',\n",
       " '8',\n",
       " '24',\n",
       " '59',\n",
       " '14',\n",
       " '92',\n",
       " '72',\n",
       " '6',\n",
       " '72',\n",
       " '48',\n",
       " '79',\n",
       " '82',\n",
       " '38',\n",
       " '53',\n",
       " '94',\n",
       " '17',\n",
       " '22',\n",
       " '83',\n",
       " '66',\n",
       " '80',\n",
       " '55',\n",
       " '70',\n",
       " '48',\n",
       " '92',\n",
       " '29',\n",
       " '38',\n",
       " '0',\n",
       " '17',\n",
       " '67',\n",
       " '63',\n",
       " '64',\n",
       " '72',\n",
       " '70',\n",
       " '91',\n",
       " '83',\n",
       " '57',\n",
       " '9',\n",
       " '58',\n",
       " '7',\n",
       " '98',\n",
       " '98',\n",
       " '58',\n",
       " '94',\n",
       " '33',\n",
       " '86',\n",
       " '54',\n",
       " '30',\n",
       " '86',\n",
       " '61',\n",
       " '19',\n",
       " '46',\n",
       " '8',\n",
       " '73',\n",
       " '66',\n",
       " '35',\n",
       " '63',\n",
       " '15',\n",
       " '95',\n",
       " '62',\n",
       " '68',\n",
       " '10',\n",
       " '64',\n",
       " '87',\n",
       " '71',\n",
       " '14',\n",
       " '8',\n",
       " '0',\n",
       " '74',\n",
       " '58',\n",
       " '91',\n",
       " '11',\n",
       " '11']"
      ]
     },
     "execution_count": 270,
     "metadata": {},
     "output_type": "execute_result"
    }
   ],
   "source": [
    "[regel.strip() for regel in data]"
   ]
  },
  {
   "cell_type": "markdown",
   "id": "5500fabd",
   "metadata": {},
   "source": [
    "### Oplossing 3.2"
   ]
  },
  {
   "cell_type": "code",
   "execution_count": 271,
   "id": "94a8607a",
   "metadata": {},
   "outputs": [
    {
     "data": {
      "text/plain": [
       "6180"
      ]
     },
     "execution_count": 271,
     "metadata": {},
     "output_type": "execute_result"
    }
   ],
   "source": [
    "sum(getallen)"
   ]
  },
  {
   "cell_type": "markdown",
   "id": "2221006f",
   "metadata": {},
   "source": [
    "### Oplossing 3.3:"
   ]
  },
  {
   "cell_type": "code",
   "execution_count": 272,
   "id": "ccd9912c",
   "metadata": {},
   "outputs": [
    {
     "name": "stdout",
     "output_type": "stream",
     "text": [
      "0\n"
     ]
    }
   ],
   "source": [
    "def bestand_berekening(bestandsnaam):\n",
    "    product = 1\n",
    "    with open(bestandsnaam, 'r') as bestand:\n",
    "        for regel in bestand:\n",
    "            product *= int(regel)\n",
    "    return product\n",
    "\n",
    "print(bestand_berekening('getallen.txt'))"
   ]
  },
  {
   "cell_type": "code",
   "execution_count": 273,
   "id": "9fc70894",
   "metadata": {},
   "outputs": [
    {
     "name": "stdout",
     "output_type": "stream",
     "text": [
      "5725091495753840021585762169762196080555537493858876951725726740294132408430110407053086747341704566388704078300448264382345776345730732840536576777073846803842487574916631625728000000000000000\n"
     ]
    }
   ],
   "source": [
    "def bestand_berekening(bestandsnaam):\n",
    "    product = 1\n",
    "    with open(bestandsnaam, 'r') as bestand:\n",
    "        for regel in bestand:\n",
    "            if int(regel):\n",
    "                product *= int(regel)\n",
    "    return product\n",
    "\n",
    "print(bestand_berekening('getallen.txt'))"
   ]
  },
  {
   "cell_type": "code",
   "execution_count": 275,
   "id": "e4c17295",
   "metadata": {},
   "outputs": [
    {
     "data": {
      "text/plain": [
       "255"
      ]
     },
     "execution_count": 275,
     "metadata": {},
     "output_type": "execute_result"
    }
   ],
   "source": [
    "2**8 - 1"
   ]
  },
  {
   "cell_type": "raw",
   "id": "1d7bf392",
   "metadata": {},
   "source": [
    "  11111111\n",
    "         1 +\n",
    "-----------\n",
    "1 00000000  <- Overflow!\n",
    "  00000000  <- Resultaat"
   ]
  },
  {
   "cell_type": "markdown",
   "id": "9d8e17bf",
   "metadata": {},
   "source": [
    "## Opdracht 4:\n",
    "1. Lees het bestand `sleutel_waarde.txt` in als een dictionary met de eerste waarde per regel als sleutel en de tweede waarde als waarde (in de vorm van een integer).\n",
    "2. Wat is de som van de waarden van de woorden die beginnen met de letter `a`?\n",
    "3. Doe hetzelfde voor iedere letter van het alfabet."
   ]
  },
  {
   "cell_type": "markdown",
   "id": "5fb8f46d",
   "metadata": {},
   "source": [
    "## Opdracht 5:\n",
    "1. Lees het bestand `eff_large_wordlist.txt` in als een lijst van strings.\n",
    "2. Schoon de data op zodat je alleen een lijst van woorden over houdt.\n",
    "3. Hoeveel keer komt iedere letter voor als eerste letter van een woord?\n",
    "4. Hoeveel woorden hebben anagrammen?\n",
    "5. Hoeveel woorden leiden er tot ieder anagram? Anders gezegd: laat zien per uniek anagram hoeveel woorden er tot dat anagram leiden.\n"
   ]
  },
  {
   "cell_type": "code",
   "execution_count": null,
   "id": "dc937513",
   "metadata": {},
   "outputs": [],
   "source": []
  }
 ],
 "metadata": {
  "kernelspec": {
   "display_name": "Python 3 (ipykernel)",
   "language": "python",
   "name": "python3"
  },
  "language_info": {
   "codemirror_mode": {
    "name": "ipython",
    "version": 3
   },
   "file_extension": ".py",
   "mimetype": "text/x-python",
   "name": "python",
   "nbconvert_exporter": "python",
   "pygments_lexer": "ipython3",
   "version": "3.10.9"
  }
 },
 "nbformat": 4,
 "nbformat_minor": 5
}
