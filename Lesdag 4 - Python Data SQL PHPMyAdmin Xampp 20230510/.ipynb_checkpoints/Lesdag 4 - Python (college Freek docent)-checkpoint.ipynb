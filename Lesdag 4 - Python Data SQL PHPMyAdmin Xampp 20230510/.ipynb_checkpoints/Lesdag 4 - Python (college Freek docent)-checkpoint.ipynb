{
 "cells": [
  {
   "cell_type": "code",
   "execution_count": 1,
   "id": "802a8d06",
   "metadata": {},
   "outputs": [
    {
     "data": {
      "text/plain": [
       "6"
      ]
     },
     "execution_count": 1,
     "metadata": {},
     "output_type": "execute_result"
    }
   ],
   "source": [
    "3 + 3"
   ]
  },
  {
   "cell_type": "code",
   "execution_count": 2,
   "id": "5218a3d9",
   "metadata": {},
   "outputs": [
    {
     "data": {
      "text/plain": [
       "8"
      ]
     },
     "execution_count": 2,
     "metadata": {},
     "output_type": "execute_result"
    }
   ],
   "source": [
    "2 ** 3"
   ]
  },
  {
   "cell_type": "code",
   "execution_count": null,
   "id": "4a708c90",
   "metadata": {},
   "outputs": [],
   "source": [
    "getal = int(input('hallo'))\n",
    "if getal < -10 or getal > 10:\n",
    "    print('print print')"
   ]
  },
  {
   "cell_type": "code",
   "execution_count": null,
   "id": "379f6c8a",
   "metadata": {},
   "outputs": [],
   "source": [
    "opdrachten_lijst = [9, 2, 6, 'a', 'z', ['hoi']]"
   ]
  },
  {
   "cell_type": "code",
   "execution_count": null,
   "id": "239cd05f",
   "metadata": {},
   "outputs": [],
   "source": [
    "opdrachten_lijst = [9, 2, 6, 'a', 'z', ['hoi']]\n",
    "\n",
    "for _ in opdrachten_lijst:\n",
    "    print(_)"
   ]
  },
  {
   "cell_type": "code",
   "execution_count": null,
   "id": "5e991746",
   "metadata": {},
   "outputs": [],
   "source": []
  }
 ],
 "metadata": {
  "kernelspec": {
   "display_name": "Python 3 (ipykernel)",
   "language": "python",
   "name": "python3"
  },
  "language_info": {
   "codemirror_mode": {
    "name": "ipython",
    "version": 3
   },
   "file_extension": ".py",
   "mimetype": "text/x-python",
   "name": "python",
   "nbconvert_exporter": "python",
   "pygments_lexer": "ipython3",
   "version": "3.10.9"
  }
 },
 "nbformat": 4,
 "nbformat_minor": 5
}
